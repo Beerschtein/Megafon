{
 "cells": [
  {
   "cell_type": "markdown",
   "id": "df443cdd",
   "metadata": {},
   "source": [
    "## Итоговый проект по курсу от Megafon"
   ]
  },
  {
   "cell_type": "markdown",
   "id": "a9ad249e",
   "metadata": {},
   "source": [
    "### Часть 1. Исследование и предварительная подготовка данных"
   ]
  },
  {
   "cell_type": "markdown",
   "id": "557bf771",
   "metadata": {},
   "source": [
    "### Легенда"
   ]
  },
  {
   "cell_type": "markdown",
   "id": "84fbd172",
   "metadata": {},
   "source": [
    "У нас появился запрос из отдела продаж и маркетинга. Как вы знаете «МегаФон» предлагает обширный набор различных услуг своим абонентам. При этом разным пользователям интересны разные услуги. Поэтому необходимо построить алгоритм, который для каждой пары пользователь-услуга определит вероятность подключения услуги."
   ]
  },
  {
   "cell_type": "markdown",
   "id": "51d4c48b",
   "metadata": {},
   "source": [
    "### Данные"
   ]
  },
  {
   "cell_type": "markdown",
   "id": "e8efe215",
   "metadata": {},
   "source": [
    "В качестве исходных данных вам будет доступна информация об отклике абонентов на предложение подключения одной из услуг. Каждому пользователю может быть сделано несколько предложений в разное время, каждое из которых он может или принять, или отклонить. Отдельным набором данных будет являться нормализованный анонимизированный набор признаков, характеризующий профиль потребления абонента. Эти данные привязаны к определенному времени, поскольку профиль абонента может меняться с течением времени. Данные train и test разбиты по периодам – на train доступно 4 месяцев, а на test отложен последующий месяц."
   ]
  },
  {
   "cell_type": "markdown",
   "id": "59cb7342",
   "metadata": {},
   "source": [
    "### В итоге, в качестве входных данных будут представлены:"
   ]
  },
  {
   "cell_type": "markdown",
   "id": "7fd3c929",
   "metadata": {},
   "source": [
    "data_train.csv: id, vas_id, buy_time, target. features.csv.zip"
   ]
  },
  {
   "cell_type": "markdown",
   "id": "deb0d934",
   "metadata": {},
   "source": [
    "### Тестовый набор:"
   ]
  },
  {
   "cell_type": "markdown",
   "id": "0ff6ec23",
   "metadata": {},
   "source": [
    "data_test.csv: id, vas_id, buy_time.   target - целевая переменная, где 1 означает подключение услуги, 0 - абонент не подключил услугу соответственно. buy_time - время покупки, представлено в формате timestamp, для работы с этим столбцом понадобится функция datetime.fromtimestamp из модуля datetime. id - идентификатор абонента vas_id - подключаемая услуга Примечание: Размер файла features.csv в распакованном виде весит 20 гб, для работы с ним можно воспользоваться pandas.read_csv, либо можно воспользоваться библиотекой Dask."
   ]
  },
  {
   "cell_type": "markdown",
   "id": "a21ecada",
   "metadata": {},
   "source": [
    "### Метрика"
   ]
  },
  {
   "cell_type": "markdown",
   "id": "b4e5256f",
   "metadata": {},
   "source": [
    "Скоринг будет осуществляться функцией f1, невзвешенным образом, как например делает функция sklearn.metrics.f1_score(…, average=’macro’)."
   ]
  },
  {
   "cell_type": "markdown",
   "id": "8c2d06b4",
   "metadata": {},
   "source": [
    "### Импоритруем библиотеки"
   ]
  },
  {
   "cell_type": "code",
   "execution_count": 1,
   "id": "637698a9",
   "metadata": {},
   "outputs": [],
   "source": [
    "import os\n",
    "import numpy as np\n",
    "import pandas as pd\n",
    "import dask.dataframe as dd\n",
    "from datetime import datetime\n",
    "\n",
    "from sklearn.model_selection import train_test_split, ShuffleSplit, cross_val_score, learning_curve\n",
    "from sklearn.impute import SimpleImputer\n",
    "from sklearn.preprocessing import StandardScaler, OneHotEncoder\n",
    "import catboost as catb\n",
    "from sklearn.model_selection import KFold, GridSearchCV, RandomizedSearchCV\n",
    "from sklearn.metrics import classification_report, f1_score, precision_score, recall_score\n",
    "\n",
    "def convert_timestamp_to_datetime(dataframe, colname):\n",
    "    dataframe[colname] = dataframe[colname].apply(lambda timestamp: datetime.fromtimestamp(timestamp))\n",
    "    return dataframe"
   ]
  },
  {
   "cell_type": "markdown",
   "id": "6c66917b",
   "metadata": {},
   "source": [
    "### Зададим константы путей к данным"
   ]
  },
  {
   "cell_type": "code",
   "execution_count": 2,
   "id": "728a6d28",
   "metadata": {},
   "outputs": [],
   "source": [
    "DATA_TRAIN_PATH = 'data_train.csv'\n",
    "DATA_TEST_PATH = 'data_test.csv'\n",
    "FEATURES_PATH = 'features.csv'"
   ]
  },
  {
   "cell_type": "markdown",
   "id": "a4180125",
   "metadata": {},
   "source": [
    "### Загружаем данные"
   ]
  },
  {
   "cell_type": "code",
   "execution_count": 3,
   "id": "067760dc",
   "metadata": {},
   "outputs": [],
   "source": [
    "data_train = pd.read_csv(DATA_TRAIN_PATH)\n",
    "data_test = pd.read_csv(DATA_TEST_PATH)"
   ]
  },
  {
   "cell_type": "code",
   "execution_count": 4,
   "id": "47035f0a",
   "metadata": {},
   "outputs": [
    {
     "name": "stdout",
     "output_type": "stream",
     "text": [
      "Wall time: 155 ms\n"
     ]
    }
   ],
   "source": [
    "%%time\n",
    "data_features = dd.read_csv(FEATURES_PATH, sep='\\t')"
   ]
  },
  {
   "cell_type": "markdown",
   "id": "7598b473",
   "metadata": {},
   "source": [
    "### Посмотрим на содержание данных"
   ]
  },
  {
   "cell_type": "code",
   "execution_count": 5,
   "id": "25b6e6d7",
   "metadata": {},
   "outputs": [
    {
     "data": {
      "text/html": [
       "<div>\n",
       "<style scoped>\n",
       "    .dataframe tbody tr th:only-of-type {\n",
       "        vertical-align: middle;\n",
       "    }\n",
       "\n",
       "    .dataframe tbody tr th {\n",
       "        vertical-align: top;\n",
       "    }\n",
       "\n",
       "    .dataframe thead th {\n",
       "        text-align: right;\n",
       "    }\n",
       "</style>\n",
       "<table border=\"1\" class=\"dataframe\">\n",
       "  <thead>\n",
       "    <tr style=\"text-align: right;\">\n",
       "      <th></th>\n",
       "      <th>Unnamed: 0</th>\n",
       "      <th>id</th>\n",
       "      <th>vas_id</th>\n",
       "      <th>buy_time</th>\n",
       "      <th>target</th>\n",
       "    </tr>\n",
       "  </thead>\n",
       "  <tbody>\n",
       "    <tr>\n",
       "      <th>0</th>\n",
       "      <td>0</td>\n",
       "      <td>540968</td>\n",
       "      <td>8.0</td>\n",
       "      <td>1537131600</td>\n",
       "      <td>0.0</td>\n",
       "    </tr>\n",
       "    <tr>\n",
       "      <th>1</th>\n",
       "      <td>1</td>\n",
       "      <td>1454121</td>\n",
       "      <td>4.0</td>\n",
       "      <td>1531688400</td>\n",
       "      <td>0.0</td>\n",
       "    </tr>\n",
       "  </tbody>\n",
       "</table>\n",
       "</div>"
      ],
      "text/plain": [
       "   Unnamed: 0       id  vas_id    buy_time  target\n",
       "0           0   540968     8.0  1537131600     0.0\n",
       "1           1  1454121     4.0  1531688400     0.0"
      ]
     },
     "execution_count": 5,
     "metadata": {},
     "output_type": "execute_result"
    }
   ],
   "source": [
    "data_train.head(2)"
   ]
  },
  {
   "cell_type": "code",
   "execution_count": 6,
   "id": "5164b947",
   "metadata": {},
   "outputs": [
    {
     "data": {
      "text/html": [
       "<div>\n",
       "<style scoped>\n",
       "    .dataframe tbody tr th:only-of-type {\n",
       "        vertical-align: middle;\n",
       "    }\n",
       "\n",
       "    .dataframe tbody tr th {\n",
       "        vertical-align: top;\n",
       "    }\n",
       "\n",
       "    .dataframe thead th {\n",
       "        text-align: right;\n",
       "    }\n",
       "</style>\n",
       "<table border=\"1\" class=\"dataframe\">\n",
       "  <thead>\n",
       "    <tr style=\"text-align: right;\">\n",
       "      <th></th>\n",
       "      <th>Unnamed: 0</th>\n",
       "      <th>id</th>\n",
       "      <th>vas_id</th>\n",
       "      <th>buy_time</th>\n",
       "    </tr>\n",
       "  </thead>\n",
       "  <tbody>\n",
       "    <tr>\n",
       "      <th>0</th>\n",
       "      <td>0</td>\n",
       "      <td>3130519</td>\n",
       "      <td>2.0</td>\n",
       "      <td>1548018000</td>\n",
       "    </tr>\n",
       "    <tr>\n",
       "      <th>1</th>\n",
       "      <td>1</td>\n",
       "      <td>2000860</td>\n",
       "      <td>4.0</td>\n",
       "      <td>1548018000</td>\n",
       "    </tr>\n",
       "  </tbody>\n",
       "</table>\n",
       "</div>"
      ],
      "text/plain": [
       "   Unnamed: 0       id  vas_id    buy_time\n",
       "0           0  3130519     2.0  1548018000\n",
       "1           1  2000860     4.0  1548018000"
      ]
     },
     "execution_count": 6,
     "metadata": {},
     "output_type": "execute_result"
    }
   ],
   "source": [
    "data_test.head(2)"
   ]
  },
  {
   "cell_type": "code",
   "execution_count": 7,
   "id": "f6dfb971",
   "metadata": {},
   "outputs": [
    {
     "data": {
      "text/html": [
       "<div>\n",
       "<style scoped>\n",
       "    .dataframe tbody tr th:only-of-type {\n",
       "        vertical-align: middle;\n",
       "    }\n",
       "\n",
       "    .dataframe tbody tr th {\n",
       "        vertical-align: top;\n",
       "    }\n",
       "\n",
       "    .dataframe thead th {\n",
       "        text-align: right;\n",
       "    }\n",
       "</style>\n",
       "<table border=\"1\" class=\"dataframe\">\n",
       "  <thead>\n",
       "    <tr style=\"text-align: right;\">\n",
       "      <th></th>\n",
       "      <th>Unnamed: 0</th>\n",
       "      <th>id</th>\n",
       "      <th>buy_time</th>\n",
       "      <th>0</th>\n",
       "      <th>1</th>\n",
       "      <th>2</th>\n",
       "      <th>3</th>\n",
       "      <th>4</th>\n",
       "      <th>5</th>\n",
       "      <th>6</th>\n",
       "      <th>...</th>\n",
       "      <th>243</th>\n",
       "      <th>244</th>\n",
       "      <th>245</th>\n",
       "      <th>246</th>\n",
       "      <th>247</th>\n",
       "      <th>248</th>\n",
       "      <th>249</th>\n",
       "      <th>250</th>\n",
       "      <th>251</th>\n",
       "      <th>252</th>\n",
       "    </tr>\n",
       "  </thead>\n",
       "  <tbody>\n",
       "    <tr>\n",
       "      <th>0</th>\n",
       "      <td>0</td>\n",
       "      <td>2013026</td>\n",
       "      <td>1531688400</td>\n",
       "      <td>18.910029</td>\n",
       "      <td>46.980888</td>\n",
       "      <td>4.969214</td>\n",
       "      <td>-1.386798</td>\n",
       "      <td>3.791754</td>\n",
       "      <td>-14.01179</td>\n",
       "      <td>-16.08618</td>\n",
       "      <td>...</td>\n",
       "      <td>-977.373846</td>\n",
       "      <td>-613.770792</td>\n",
       "      <td>-25.996269</td>\n",
       "      <td>-37.630448</td>\n",
       "      <td>-301.747724</td>\n",
       "      <td>-25.832889</td>\n",
       "      <td>-0.694428</td>\n",
       "      <td>-12.175933</td>\n",
       "      <td>-0.45614</td>\n",
       "      <td>0.0</td>\n",
       "    </tr>\n",
       "    <tr>\n",
       "      <th>1</th>\n",
       "      <td>1</td>\n",
       "      <td>2014722</td>\n",
       "      <td>1539550800</td>\n",
       "      <td>36.690029</td>\n",
       "      <td>152.400888</td>\n",
       "      <td>448.069214</td>\n",
       "      <td>563.833202</td>\n",
       "      <td>463.841754</td>\n",
       "      <td>568.99821</td>\n",
       "      <td>-16.08618</td>\n",
       "      <td>...</td>\n",
       "      <td>-891.373846</td>\n",
       "      <td>-544.770792</td>\n",
       "      <td>-20.996269</td>\n",
       "      <td>48.369552</td>\n",
       "      <td>80.252276</td>\n",
       "      <td>-13.832889</td>\n",
       "      <td>-0.694428</td>\n",
       "      <td>-1.175933</td>\n",
       "      <td>-0.45614</td>\n",
       "      <td>0.0</td>\n",
       "    </tr>\n",
       "  </tbody>\n",
       "</table>\n",
       "<p>2 rows × 256 columns</p>\n",
       "</div>"
      ],
      "text/plain": [
       "   Unnamed: 0       id    buy_time          0           1           2  \\\n",
       "0           0  2013026  1531688400  18.910029   46.980888    4.969214   \n",
       "1           1  2014722  1539550800  36.690029  152.400888  448.069214   \n",
       "\n",
       "            3           4          5         6  ...         243         244  \\\n",
       "0   -1.386798    3.791754  -14.01179 -16.08618  ... -977.373846 -613.770792   \n",
       "1  563.833202  463.841754  568.99821 -16.08618  ... -891.373846 -544.770792   \n",
       "\n",
       "         245        246         247        248       249        250      251  \\\n",
       "0 -25.996269 -37.630448 -301.747724 -25.832889 -0.694428 -12.175933 -0.45614   \n",
       "1 -20.996269  48.369552   80.252276 -13.832889 -0.694428  -1.175933 -0.45614   \n",
       "\n",
       "   252  \n",
       "0  0.0  \n",
       "1  0.0  \n",
       "\n",
       "[2 rows x 256 columns]"
      ]
     },
     "execution_count": 7,
     "metadata": {},
     "output_type": "execute_result"
    }
   ],
   "source": [
    "data_features.head(2)"
   ]
  },
  {
   "cell_type": "code",
   "execution_count": 8,
   "id": "35b54cb7",
   "metadata": {},
   "outputs": [
    {
     "data": {
      "text/plain": [
       "831653"
      ]
     },
     "execution_count": 8,
     "metadata": {},
     "output_type": "execute_result"
    }
   ],
   "source": [
    "data_train.shape[0]"
   ]
  },
  {
   "cell_type": "code",
   "execution_count": 9,
   "id": "545cc72d",
   "metadata": {},
   "outputs": [
    {
     "data": {
      "text/plain": [
       "71231"
      ]
     },
     "execution_count": 9,
     "metadata": {},
     "output_type": "execute_result"
    }
   ],
   "source": [
    "data_test.shape[0]"
   ]
  },
  {
   "cell_type": "code",
   "execution_count": 10,
   "id": "e7cda83e",
   "metadata": {},
   "outputs": [
    {
     "data": {
      "text/plain": [
       "1374678    3\n",
       "44545      3\n",
       "3240429    3\n",
       "2615828    3\n",
       "1210522    3\n",
       "          ..\n",
       "1790395    1\n",
       "1441300    1\n",
       "1790399    1\n",
       "2511623    1\n",
       "988236     1\n",
       "Name: id, Length: 70152, dtype: int64"
      ]
     },
     "execution_count": 10,
     "metadata": {},
     "output_type": "execute_result"
    }
   ],
   "source": [
    "data_test['id'].value_counts()"
   ]
  },
  {
   "cell_type": "markdown",
   "id": "de6b52b9",
   "metadata": {},
   "source": [
    "### Исследование данных"
   ]
  },
  {
   "cell_type": "code",
   "execution_count": 11,
   "id": "0c0a1502",
   "metadata": {},
   "outputs": [
    {
     "name": "stdout",
     "output_type": "stream",
     "text": [
      "<class 'pandas.core.frame.DataFrame'>\n",
      "RangeIndex: 831653 entries, 0 to 831652\n",
      "Data columns (total 5 columns):\n",
      " #   Column      Non-Null Count   Dtype  \n",
      "---  ------      --------------   -----  \n",
      " 0   Unnamed: 0  831653 non-null  int64  \n",
      " 1   id          831653 non-null  int64  \n",
      " 2   vas_id      831653 non-null  float64\n",
      " 3   buy_time    831653 non-null  int64  \n",
      " 4   target      831653 non-null  float64\n",
      "dtypes: float64(2), int64(3)\n",
      "memory usage: 31.7 MB\n"
     ]
    }
   ],
   "source": [
    "data_train.info()"
   ]
  },
  {
   "cell_type": "code",
   "execution_count": 12,
   "id": "72883f87",
   "metadata": {},
   "outputs": [
    {
     "name": "stdout",
     "output_type": "stream",
     "text": [
      "<class 'pandas.core.frame.DataFrame'>\n",
      "RangeIndex: 71231 entries, 0 to 71230\n",
      "Data columns (total 4 columns):\n",
      " #   Column      Non-Null Count  Dtype  \n",
      "---  ------      --------------  -----  \n",
      " 0   Unnamed: 0  71231 non-null  int64  \n",
      " 1   id          71231 non-null  int64  \n",
      " 2   vas_id      71231 non-null  float64\n",
      " 3   buy_time    71231 non-null  int64  \n",
      "dtypes: float64(1), int64(3)\n",
      "memory usage: 2.2 MB\n"
     ]
    }
   ],
   "source": [
    "data_test.info()"
   ]
  },
  {
   "cell_type": "markdown",
   "id": "7da2cd08",
   "metadata": {},
   "source": [
    "### Посмотрим на количество классов и их соотношение в \"target\":"
   ]
  },
  {
   "cell_type": "code",
   "execution_count": 13,
   "id": "221d476e",
   "metadata": {},
   "outputs": [
    {
     "data": {
      "text/plain": [
       "0.0    771467\n",
       "1.0     60186\n",
       "Name: target, dtype: int64"
      ]
     },
     "execution_count": 13,
     "metadata": {},
     "output_type": "execute_result"
    }
   ],
   "source": [
    "data_train['target'].value_counts()"
   ]
  },
  {
   "cell_type": "markdown",
   "id": "fbca0c18",
   "metadata": {},
   "source": [
    "**У нас два класса: 1 и 0 и наблюдается их явный дисбаланс, что в последствии необходимо учесть.**"
   ]
  },
  {
   "cell_type": "markdown",
   "id": "6a9f7027",
   "metadata": {},
   "source": [
    "**Удалим признак \"Unnamed: 0\", который для нас бесполезен, так как дублирует \"id\".**"
   ]
  },
  {
   "cell_type": "code",
   "execution_count": 14,
   "id": "5ae4eaa9",
   "metadata": {},
   "outputs": [],
   "source": [
    "data_train = data_train.drop(columns=['Unnamed: 0'])\n",
    "data_test = data_test.drop(columns=['Unnamed: 0'])"
   ]
  },
  {
   "cell_type": "markdown",
   "id": "33ec642e",
   "metadata": {},
   "source": [
    "**Проверим датасет на дублирующиеся id:**"
   ]
  },
  {
   "cell_type": "code",
   "execution_count": 15,
   "id": "fa5b1385",
   "metadata": {},
   "outputs": [
    {
     "data": {
      "text/plain": [
       "False    806613\n",
       "True      25040\n",
       "dtype: int64"
      ]
     },
     "execution_count": 15,
     "metadata": {},
     "output_type": "execute_result"
    }
   ],
   "source": [
    "data_train.duplicated(subset=['id']).value_counts()"
   ]
  },
  {
   "cell_type": "code",
   "execution_count": 16,
   "id": "edabf5ff",
   "metadata": {},
   "outputs": [
    {
     "data": {
      "text/plain": [
       "False    70152\n",
       "True      1079\n",
       "dtype: int64"
      ]
     },
     "execution_count": 16,
     "metadata": {},
     "output_type": "execute_result"
    }
   ],
   "source": [
    "data_test.duplicated(subset=['id']).value_counts()"
   ]
  },
  {
   "cell_type": "markdown",
   "id": "7e7a75a8",
   "metadata": {},
   "source": [
    "**Видим, что есть повторяющиея id. Вероятно это id пользователей, у которых несколько sim-карт.**"
   ]
  },
  {
   "cell_type": "markdown",
   "id": "cee8ee94",
   "metadata": {},
   "source": [
    "### Просмотрим, сколько всего данных в датасете \"features\":"
   ]
  },
  {
   "cell_type": "code",
   "execution_count": 17,
   "id": "4395e568",
   "metadata": {},
   "outputs": [
    {
     "name": "stdout",
     "output_type": "stream",
     "text": [
      "Wall time: 5min 15s\n"
     ]
    },
    {
     "data": {
      "text/plain": [
       "4512528"
      ]
     },
     "execution_count": 17,
     "metadata": {},
     "output_type": "execute_result"
    }
   ],
   "source": [
    "%%time\n",
    "data_features.shape[0].compute()"
   ]
  },
  {
   "cell_type": "code",
   "execution_count": 18,
   "id": "6a56fe8d",
   "metadata": {},
   "outputs": [],
   "source": [
    "# 4512528"
   ]
  },
  {
   "cell_type": "code",
   "execution_count": 19,
   "id": "72e5dd2b",
   "metadata": {},
   "outputs": [
    {
     "name": "stdout",
     "output_type": "stream",
     "text": [
      "<class 'dask.dataframe.core.DataFrame'>\n",
      "Columns: 256 entries, Unnamed: 0 to 252\n",
      "dtypes: float64(253), int64(3)"
     ]
    }
   ],
   "source": [
    "data_features.info()"
   ]
  },
  {
   "cell_type": "markdown",
   "id": "fa70f1ea",
   "metadata": {},
   "source": [
    "**Количество данных в датасете достаточно велико. Отфильтруем бесполезные и оставим только признаки с id наших клиентов из train и test.**"
   ]
  },
  {
   "cell_type": "code",
   "execution_count": 20,
   "id": "00d7b93d",
   "metadata": {},
   "outputs": [],
   "source": [
    "def prepare_features(features, train, test):\n",
    "    user_ids = np.unique(train['id'].append(test['id']))\n",
    "    # Оставим id пользователей, из train и test\n",
    "    features = features[features['id'].isin(user_ids)]\n",
    "\n",
    "    # Удаляем столбец Unnamed: 0\n",
    "    if 'Unnamed: 0' in features:\n",
    "        features = features.drop(columns='Unnamed: 0')\n",
    "    features = features.compute()\n",
    "    \n",
    "    # Удаляем признаки с единственным значением\n",
    "    df_nunique = features.apply(lambda x: x.nunique(dropna=False))\n",
    "    const = df_nunique[df_nunique == 1].index.tolist()\n",
    "    features = features.drop(columns = const)\n",
    "    return features"
   ]
  },
  {
   "cell_type": "code",
   "execution_count": 21,
   "id": "74758c4e",
   "metadata": {},
   "outputs": [
    {
     "name": "stdout",
     "output_type": "stream",
     "text": [
      "Wall time: 5min 45s\n"
     ]
    },
    {
     "data": {
      "text/html": [
       "<div>\n",
       "<style scoped>\n",
       "    .dataframe tbody tr th:only-of-type {\n",
       "        vertical-align: middle;\n",
       "    }\n",
       "\n",
       "    .dataframe tbody tr th {\n",
       "        vertical-align: top;\n",
       "    }\n",
       "\n",
       "    .dataframe thead th {\n",
       "        text-align: right;\n",
       "    }\n",
       "</style>\n",
       "<table border=\"1\" class=\"dataframe\">\n",
       "  <thead>\n",
       "    <tr style=\"text-align: right;\">\n",
       "      <th></th>\n",
       "      <th>id</th>\n",
       "      <th>buy_time</th>\n",
       "      <th>0</th>\n",
       "      <th>1</th>\n",
       "      <th>2</th>\n",
       "      <th>3</th>\n",
       "      <th>4</th>\n",
       "      <th>5</th>\n",
       "      <th>6</th>\n",
       "      <th>7</th>\n",
       "      <th>...</th>\n",
       "      <th>243</th>\n",
       "      <th>244</th>\n",
       "      <th>245</th>\n",
       "      <th>246</th>\n",
       "      <th>247</th>\n",
       "      <th>248</th>\n",
       "      <th>249</th>\n",
       "      <th>250</th>\n",
       "      <th>251</th>\n",
       "      <th>252</th>\n",
       "    </tr>\n",
       "  </thead>\n",
       "  <tbody>\n",
       "    <tr>\n",
       "      <th>13</th>\n",
       "      <td>2046132</td>\n",
       "      <td>1534712400</td>\n",
       "      <td>300.820029</td>\n",
       "      <td>1599.480888</td>\n",
       "      <td>286.879214</td>\n",
       "      <td>1585.013202</td>\n",
       "      <td>281.461754</td>\n",
       "      <td>1563.90821</td>\n",
       "      <td>-16.08618</td>\n",
       "      <td>654.013903</td>\n",
       "      <td>...</td>\n",
       "      <td>-977.373846</td>\n",
       "      <td>-613.770792</td>\n",
       "      <td>-25.996269</td>\n",
       "      <td>-35.630448</td>\n",
       "      <td>-295.747724</td>\n",
       "      <td>-17.832889</td>\n",
       "      <td>-0.694428</td>\n",
       "      <td>-4.175933</td>\n",
       "      <td>-0.45614</td>\n",
       "      <td>0.0</td>\n",
       "    </tr>\n",
       "    <tr>\n",
       "      <th>16</th>\n",
       "      <td>2050810</td>\n",
       "      <td>1540760400</td>\n",
       "      <td>-86.209971</td>\n",
       "      <td>91.820888</td>\n",
       "      <td>-84.480786</td>\n",
       "      <td>110.333202</td>\n",
       "      <td>-89.898246</td>\n",
       "      <td>89.22821</td>\n",
       "      <td>-16.08618</td>\n",
       "      <td>-65.076097</td>\n",
       "      <td>...</td>\n",
       "      <td>-977.373846</td>\n",
       "      <td>-613.770792</td>\n",
       "      <td>-23.996269</td>\n",
       "      <td>190.369552</td>\n",
       "      <td>-286.747724</td>\n",
       "      <td>-25.832889</td>\n",
       "      <td>-0.694428</td>\n",
       "      <td>-12.175933</td>\n",
       "      <td>-0.45614</td>\n",
       "      <td>0.0</td>\n",
       "    </tr>\n",
       "    <tr>\n",
       "      <th>19</th>\n",
       "      <td>2070757</td>\n",
       "      <td>1540760400</td>\n",
       "      <td>-96.799971</td>\n",
       "      <td>-408.179112</td>\n",
       "      <td>-110.740786</td>\n",
       "      <td>-460.786798</td>\n",
       "      <td>-114.038246</td>\n",
       "      <td>-479.77179</td>\n",
       "      <td>-16.08618</td>\n",
       "      <td>-65.076097</td>\n",
       "      <td>...</td>\n",
       "      <td>-925.373846</td>\n",
       "      <td>-561.770792</td>\n",
       "      <td>-21.996269</td>\n",
       "      <td>-37.630448</td>\n",
       "      <td>-151.747724</td>\n",
       "      <td>-24.832889</td>\n",
       "      <td>0.305572</td>\n",
       "      <td>-12.175933</td>\n",
       "      <td>-0.45614</td>\n",
       "      <td>1.0</td>\n",
       "    </tr>\n",
       "    <tr>\n",
       "      <th>20</th>\n",
       "      <td>2071522</td>\n",
       "      <td>1544994000</td>\n",
       "      <td>-94.939971</td>\n",
       "      <td>-363.699112</td>\n",
       "      <td>-108.880786</td>\n",
       "      <td>-411.226798</td>\n",
       "      <td>-114.298246</td>\n",
       "      <td>-432.33179</td>\n",
       "      <td>-16.08618</td>\n",
       "      <td>-65.076097</td>\n",
       "      <td>...</td>\n",
       "      <td>-977.373846</td>\n",
       "      <td>-613.770792</td>\n",
       "      <td>-25.996269</td>\n",
       "      <td>-37.630448</td>\n",
       "      <td>-306.747724</td>\n",
       "      <td>-25.832889</td>\n",
       "      <td>-0.694428</td>\n",
       "      <td>-12.175933</td>\n",
       "      <td>-0.45614</td>\n",
       "      <td>0.0</td>\n",
       "    </tr>\n",
       "    <tr>\n",
       "      <th>22</th>\n",
       "      <td>2075318</td>\n",
       "      <td>1533502800</td>\n",
       "      <td>-75.639971</td>\n",
       "      <td>669.690888</td>\n",
       "      <td>-89.580786</td>\n",
       "      <td>732.343202</td>\n",
       "      <td>-94.998246</td>\n",
       "      <td>736.65821</td>\n",
       "      <td>-16.08618</td>\n",
       "      <td>782.383903</td>\n",
       "      <td>...</td>\n",
       "      <td>-501.373846</td>\n",
       "      <td>-242.770792</td>\n",
       "      <td>-25.996269</td>\n",
       "      <td>-37.630448</td>\n",
       "      <td>-167.747724</td>\n",
       "      <td>-14.832889</td>\n",
       "      <td>2.305572</td>\n",
       "      <td>-4.175933</td>\n",
       "      <td>-0.45614</td>\n",
       "      <td>0.0</td>\n",
       "    </tr>\n",
       "    <tr>\n",
       "      <th>...</th>\n",
       "      <td>...</td>\n",
       "      <td>...</td>\n",
       "      <td>...</td>\n",
       "      <td>...</td>\n",
       "      <td>...</td>\n",
       "      <td>...</td>\n",
       "      <td>...</td>\n",
       "      <td>...</td>\n",
       "      <td>...</td>\n",
       "      <td>...</td>\n",
       "      <td>...</td>\n",
       "      <td>...</td>\n",
       "      <td>...</td>\n",
       "      <td>...</td>\n",
       "      <td>...</td>\n",
       "      <td>...</td>\n",
       "      <td>...</td>\n",
       "      <td>...</td>\n",
       "      <td>...</td>\n",
       "      <td>...</td>\n",
       "      <td>...</td>\n",
       "    </tr>\n",
       "    <tr>\n",
       "      <th>6684</th>\n",
       "      <td>3513869</td>\n",
       "      <td>1548018000</td>\n",
       "      <td>82.370029</td>\n",
       "      <td>-123.429112</td>\n",
       "      <td>155.939214</td>\n",
       "      <td>-88.526798</td>\n",
       "      <td>150.521754</td>\n",
       "      <td>-109.63179</td>\n",
       "      <td>-16.08618</td>\n",
       "      <td>-65.076097</td>\n",
       "      <td>...</td>\n",
       "      <td>-928.373846</td>\n",
       "      <td>-570.770792</td>\n",
       "      <td>-23.996269</td>\n",
       "      <td>-37.630448</td>\n",
       "      <td>-271.747724</td>\n",
       "      <td>-22.832889</td>\n",
       "      <td>-0.694428</td>\n",
       "      <td>-12.175933</td>\n",
       "      <td>-0.45614</td>\n",
       "      <td>0.0</td>\n",
       "    </tr>\n",
       "    <tr>\n",
       "      <th>6693</th>\n",
       "      <td>3516552</td>\n",
       "      <td>1547413200</td>\n",
       "      <td>-96.799971</td>\n",
       "      <td>-116.519112</td>\n",
       "      <td>-110.740786</td>\n",
       "      <td>-169.126798</td>\n",
       "      <td>-116.158246</td>\n",
       "      <td>-190.23179</td>\n",
       "      <td>-16.08618</td>\n",
       "      <td>226.583903</td>\n",
       "      <td>...</td>\n",
       "      <td>-975.373846</td>\n",
       "      <td>-613.770792</td>\n",
       "      <td>-25.996269</td>\n",
       "      <td>-37.630448</td>\n",
       "      <td>-5.747724</td>\n",
       "      <td>-24.832889</td>\n",
       "      <td>-0.694428</td>\n",
       "      <td>-12.175933</td>\n",
       "      <td>-0.45614</td>\n",
       "      <td>0.0</td>\n",
       "    </tr>\n",
       "    <tr>\n",
       "      <th>6697</th>\n",
       "      <td>3517434</td>\n",
       "      <td>1548018000</td>\n",
       "      <td>-96.799971</td>\n",
       "      <td>-284.349112</td>\n",
       "      <td>-100.740786</td>\n",
       "      <td>-274.796798</td>\n",
       "      <td>-106.158246</td>\n",
       "      <td>-295.90179</td>\n",
       "      <td>-16.08618</td>\n",
       "      <td>-65.076097</td>\n",
       "      <td>...</td>\n",
       "      <td>-977.373846</td>\n",
       "      <td>-613.770792</td>\n",
       "      <td>-25.996269</td>\n",
       "      <td>-37.630448</td>\n",
       "      <td>-306.747724</td>\n",
       "      <td>-25.832889</td>\n",
       "      <td>-0.694428</td>\n",
       "      <td>-12.175933</td>\n",
       "      <td>-0.45614</td>\n",
       "      <td>0.0</td>\n",
       "    </tr>\n",
       "    <tr>\n",
       "      <th>6705</th>\n",
       "      <td>3519714</td>\n",
       "      <td>1546808400</td>\n",
       "      <td>167.280029</td>\n",
       "      <td>110.140888</td>\n",
       "      <td>153.339214</td>\n",
       "      <td>57.533202</td>\n",
       "      <td>147.921754</td>\n",
       "      <td>36.42821</td>\n",
       "      <td>-2.00618</td>\n",
       "      <td>-50.996097</td>\n",
       "      <td>...</td>\n",
       "      <td>-977.373846</td>\n",
       "      <td>-613.770792</td>\n",
       "      <td>-14.996269</td>\n",
       "      <td>7.369552</td>\n",
       "      <td>-180.747724</td>\n",
       "      <td>-19.832889</td>\n",
       "      <td>0.305572</td>\n",
       "      <td>-12.175933</td>\n",
       "      <td>-0.45614</td>\n",
       "      <td>0.0</td>\n",
       "    </tr>\n",
       "    <tr>\n",
       "      <th>6711</th>\n",
       "      <td>3521152</td>\n",
       "      <td>1548018000</td>\n",
       "      <td>-96.799971</td>\n",
       "      <td>-198.259112</td>\n",
       "      <td>-110.740786</td>\n",
       "      <td>-250.866798</td>\n",
       "      <td>-116.158246</td>\n",
       "      <td>-263.72179</td>\n",
       "      <td>-16.08618</td>\n",
       "      <td>-65.076097</td>\n",
       "      <td>...</td>\n",
       "      <td>3312.626154</td>\n",
       "      <td>2447.229208</td>\n",
       "      <td>-22.996269</td>\n",
       "      <td>339.369552</td>\n",
       "      <td>17256.252276</td>\n",
       "      <td>-0.832889</td>\n",
       "      <td>0.305572</td>\n",
       "      <td>-12.175933</td>\n",
       "      <td>-0.45614</td>\n",
       "      <td>0.0</td>\n",
       "    </tr>\n",
       "  </tbody>\n",
       "</table>\n",
       "<p>902389 rows × 250 columns</p>\n",
       "</div>"
      ],
      "text/plain": [
       "           id    buy_time           0            1           2            3  \\\n",
       "13    2046132  1534712400  300.820029  1599.480888  286.879214  1585.013202   \n",
       "16    2050810  1540760400  -86.209971    91.820888  -84.480786   110.333202   \n",
       "19    2070757  1540760400  -96.799971  -408.179112 -110.740786  -460.786798   \n",
       "20    2071522  1544994000  -94.939971  -363.699112 -108.880786  -411.226798   \n",
       "22    2075318  1533502800  -75.639971   669.690888  -89.580786   732.343202   \n",
       "...       ...         ...         ...          ...         ...          ...   \n",
       "6684  3513869  1548018000   82.370029  -123.429112  155.939214   -88.526798   \n",
       "6693  3516552  1547413200  -96.799971  -116.519112 -110.740786  -169.126798   \n",
       "6697  3517434  1548018000  -96.799971  -284.349112 -100.740786  -274.796798   \n",
       "6705  3519714  1546808400  167.280029   110.140888  153.339214    57.533202   \n",
       "6711  3521152  1548018000  -96.799971  -198.259112 -110.740786  -250.866798   \n",
       "\n",
       "               4           5         6           7  ...          243  \\\n",
       "13    281.461754  1563.90821 -16.08618  654.013903  ...  -977.373846   \n",
       "16    -89.898246    89.22821 -16.08618  -65.076097  ...  -977.373846   \n",
       "19   -114.038246  -479.77179 -16.08618  -65.076097  ...  -925.373846   \n",
       "20   -114.298246  -432.33179 -16.08618  -65.076097  ...  -977.373846   \n",
       "22    -94.998246   736.65821 -16.08618  782.383903  ...  -501.373846   \n",
       "...          ...         ...       ...         ...  ...          ...   \n",
       "6684  150.521754  -109.63179 -16.08618  -65.076097  ...  -928.373846   \n",
       "6693 -116.158246  -190.23179 -16.08618  226.583903  ...  -975.373846   \n",
       "6697 -106.158246  -295.90179 -16.08618  -65.076097  ...  -977.373846   \n",
       "6705  147.921754    36.42821  -2.00618  -50.996097  ...  -977.373846   \n",
       "6711 -116.158246  -263.72179 -16.08618  -65.076097  ...  3312.626154   \n",
       "\n",
       "              244        245         246           247        248       249  \\\n",
       "13    -613.770792 -25.996269  -35.630448   -295.747724 -17.832889 -0.694428   \n",
       "16    -613.770792 -23.996269  190.369552   -286.747724 -25.832889 -0.694428   \n",
       "19    -561.770792 -21.996269  -37.630448   -151.747724 -24.832889  0.305572   \n",
       "20    -613.770792 -25.996269  -37.630448   -306.747724 -25.832889 -0.694428   \n",
       "22    -242.770792 -25.996269  -37.630448   -167.747724 -14.832889  2.305572   \n",
       "...           ...        ...         ...           ...        ...       ...   \n",
       "6684  -570.770792 -23.996269  -37.630448   -271.747724 -22.832889 -0.694428   \n",
       "6693  -613.770792 -25.996269  -37.630448     -5.747724 -24.832889 -0.694428   \n",
       "6697  -613.770792 -25.996269  -37.630448   -306.747724 -25.832889 -0.694428   \n",
       "6705  -613.770792 -14.996269    7.369552   -180.747724 -19.832889  0.305572   \n",
       "6711  2447.229208 -22.996269  339.369552  17256.252276  -0.832889  0.305572   \n",
       "\n",
       "            250      251  252  \n",
       "13    -4.175933 -0.45614  0.0  \n",
       "16   -12.175933 -0.45614  0.0  \n",
       "19   -12.175933 -0.45614  1.0  \n",
       "20   -12.175933 -0.45614  0.0  \n",
       "22    -4.175933 -0.45614  0.0  \n",
       "...         ...      ...  ...  \n",
       "6684 -12.175933 -0.45614  0.0  \n",
       "6693 -12.175933 -0.45614  0.0  \n",
       "6697 -12.175933 -0.45614  0.0  \n",
       "6705 -12.175933 -0.45614  0.0  \n",
       "6711 -12.175933 -0.45614  0.0  \n",
       "\n",
       "[902389 rows x 250 columns]"
      ]
     },
     "execution_count": 21,
     "metadata": {},
     "output_type": "execute_result"
    }
   ],
   "source": [
    "%%time\n",
    "features = prepare_features(data_features, data_train, data_test)\n",
    "features"
   ]
  },
  {
   "cell_type": "markdown",
   "id": "88386a9d",
   "metadata": {},
   "source": [
    "### Объединим features с train и test"
   ]
  },
  {
   "cell_type": "code",
   "execution_count": 22,
   "id": "222371a4",
   "metadata": {},
   "outputs": [
    {
     "name": "stdout",
     "output_type": "stream",
     "text": [
      "Wall time: 6.33 s\n"
     ]
    }
   ],
   "source": [
    "%%time\n",
    "df_train_with_features = data_train.merge(features, on='id', how = 'left')"
   ]
  },
  {
   "cell_type": "code",
   "execution_count": 23,
   "id": "d0aeca64",
   "metadata": {},
   "outputs": [
    {
     "name": "stdout",
     "output_type": "stream",
     "text": [
      "Wall time: 2.62 s\n"
     ]
    }
   ],
   "source": [
    "%%time\n",
    "df_test_with_features = data_test.merge(features, on='id', how = 'left')"
   ]
  },
  {
   "cell_type": "code",
   "execution_count": 24,
   "id": "0eadf50b",
   "metadata": {},
   "outputs": [
    {
     "data": {
      "text/html": [
       "<div>\n",
       "<style scoped>\n",
       "    .dataframe tbody tr th:only-of-type {\n",
       "        vertical-align: middle;\n",
       "    }\n",
       "\n",
       "    .dataframe tbody tr th {\n",
       "        vertical-align: top;\n",
       "    }\n",
       "\n",
       "    .dataframe thead th {\n",
       "        text-align: right;\n",
       "    }\n",
       "</style>\n",
       "<table border=\"1\" class=\"dataframe\">\n",
       "  <thead>\n",
       "    <tr style=\"text-align: right;\">\n",
       "      <th></th>\n",
       "      <th>id</th>\n",
       "      <th>vas_id</th>\n",
       "      <th>buy_time_x</th>\n",
       "      <th>target</th>\n",
       "      <th>buy_time_y</th>\n",
       "      <th>0</th>\n",
       "      <th>1</th>\n",
       "      <th>2</th>\n",
       "      <th>3</th>\n",
       "      <th>4</th>\n",
       "      <th>...</th>\n",
       "      <th>243</th>\n",
       "      <th>244</th>\n",
       "      <th>245</th>\n",
       "      <th>246</th>\n",
       "      <th>247</th>\n",
       "      <th>248</th>\n",
       "      <th>249</th>\n",
       "      <th>250</th>\n",
       "      <th>251</th>\n",
       "      <th>252</th>\n",
       "    </tr>\n",
       "  </thead>\n",
       "  <tbody>\n",
       "    <tr>\n",
       "      <th>0</th>\n",
       "      <td>540968</td>\n",
       "      <td>8.0</td>\n",
       "      <td>1537131600</td>\n",
       "      <td>0.0</td>\n",
       "      <td>1541970000</td>\n",
       "      <td>-31.559971</td>\n",
       "      <td>327.360888</td>\n",
       "      <td>-45.500786</td>\n",
       "      <td>274.753202</td>\n",
       "      <td>-50.918246</td>\n",
       "      <td>...</td>\n",
       "      <td>-845.373846</td>\n",
       "      <td>-613.770792</td>\n",
       "      <td>-20.996269</td>\n",
       "      <td>-37.630448</td>\n",
       "      <td>-28.747724</td>\n",
       "      <td>4.167111</td>\n",
       "      <td>7.305572</td>\n",
       "      <td>-12.175933</td>\n",
       "      <td>21.54386</td>\n",
       "      <td>0.0</td>\n",
       "    </tr>\n",
       "    <tr>\n",
       "      <th>1</th>\n",
       "      <td>1454121</td>\n",
       "      <td>4.0</td>\n",
       "      <td>1531688400</td>\n",
       "      <td>0.0</td>\n",
       "      <td>1531083600</td>\n",
       "      <td>547.270029</td>\n",
       "      <td>238.430888</td>\n",
       "      <td>533.329214</td>\n",
       "      <td>274.803202</td>\n",
       "      <td>527.911754</td>\n",
       "      <td>...</td>\n",
       "      <td>-972.373846</td>\n",
       "      <td>-613.770792</td>\n",
       "      <td>-25.996269</td>\n",
       "      <td>-19.630448</td>\n",
       "      <td>-278.747724</td>\n",
       "      <td>-24.832889</td>\n",
       "      <td>-0.694428</td>\n",
       "      <td>-11.175933</td>\n",
       "      <td>-0.45614</td>\n",
       "      <td>0.0</td>\n",
       "    </tr>\n",
       "    <tr>\n",
       "      <th>2</th>\n",
       "      <td>2458816</td>\n",
       "      <td>1.0</td>\n",
       "      <td>1534107600</td>\n",
       "      <td>0.0</td>\n",
       "      <td>1543179600</td>\n",
       "      <td>-92.139971</td>\n",
       "      <td>-95.469112</td>\n",
       "      <td>-106.080786</td>\n",
       "      <td>-139.596798</td>\n",
       "      <td>-111.498246</td>\n",
       "      <td>...</td>\n",
       "      <td>-977.373846</td>\n",
       "      <td>-613.770792</td>\n",
       "      <td>-25.996269</td>\n",
       "      <td>-37.630448</td>\n",
       "      <td>-304.747724</td>\n",
       "      <td>-25.832889</td>\n",
       "      <td>-0.694428</td>\n",
       "      <td>-12.175933</td>\n",
       "      <td>-0.45614</td>\n",
       "      <td>0.0</td>\n",
       "    </tr>\n",
       "    <tr>\n",
       "      <th>3</th>\n",
       "      <td>3535012</td>\n",
       "      <td>5.0</td>\n",
       "      <td>1535922000</td>\n",
       "      <td>0.0</td>\n",
       "      <td>1533502800</td>\n",
       "      <td>54.880029</td>\n",
       "      <td>12.970888</td>\n",
       "      <td>54.079214</td>\n",
       "      <td>-9.116798</td>\n",
       "      <td>48.661754</td>\n",
       "      <td>...</td>\n",
       "      <td>-977.373846</td>\n",
       "      <td>-613.770792</td>\n",
       "      <td>-25.996269</td>\n",
       "      <td>-18.630448</td>\n",
       "      <td>-133.747724</td>\n",
       "      <td>-14.832889</td>\n",
       "      <td>-0.694428</td>\n",
       "      <td>-1.175933</td>\n",
       "      <td>-0.45614</td>\n",
       "      <td>0.0</td>\n",
       "    </tr>\n",
       "    <tr>\n",
       "      <th>4</th>\n",
       "      <td>1693214</td>\n",
       "      <td>1.0</td>\n",
       "      <td>1535922000</td>\n",
       "      <td>0.0</td>\n",
       "      <td>1543179600</td>\n",
       "      <td>45.160029</td>\n",
       "      <td>295.240888</td>\n",
       "      <td>64.679214</td>\n",
       "      <td>344.283202</td>\n",
       "      <td>59.261754</td>\n",
       "      <td>...</td>\n",
       "      <td>-965.373846</td>\n",
       "      <td>-612.770792</td>\n",
       "      <td>-22.996269</td>\n",
       "      <td>-32.630448</td>\n",
       "      <td>-127.747724</td>\n",
       "      <td>-4.832889</td>\n",
       "      <td>-0.694428</td>\n",
       "      <td>-12.175933</td>\n",
       "      <td>-0.45614</td>\n",
       "      <td>0.0</td>\n",
       "    </tr>\n",
       "    <tr>\n",
       "      <th>...</th>\n",
       "      <td>...</td>\n",
       "      <td>...</td>\n",
       "      <td>...</td>\n",
       "      <td>...</td>\n",
       "      <td>...</td>\n",
       "      <td>...</td>\n",
       "      <td>...</td>\n",
       "      <td>...</td>\n",
       "      <td>...</td>\n",
       "      <td>...</td>\n",
       "      <td>...</td>\n",
       "      <td>...</td>\n",
       "      <td>...</td>\n",
       "      <td>...</td>\n",
       "      <td>...</td>\n",
       "      <td>...</td>\n",
       "      <td>...</td>\n",
       "      <td>...</td>\n",
       "      <td>...</td>\n",
       "      <td>...</td>\n",
       "      <td>...</td>\n",
       "    </tr>\n",
       "    <tr>\n",
       "      <th>860047</th>\n",
       "      <td>3812226</td>\n",
       "      <td>2.0</td>\n",
       "      <td>1546203600</td>\n",
       "      <td>0.0</td>\n",
       "      <td>1532898000</td>\n",
       "      <td>29.750029</td>\n",
       "      <td>6.200888</td>\n",
       "      <td>24.279214</td>\n",
       "      <td>-37.936798</td>\n",
       "      <td>18.861754</td>\n",
       "      <td>...</td>\n",
       "      <td>-977.373846</td>\n",
       "      <td>-613.770792</td>\n",
       "      <td>-25.996269</td>\n",
       "      <td>-37.630448</td>\n",
       "      <td>-306.747724</td>\n",
       "      <td>-25.832889</td>\n",
       "      <td>-0.694428</td>\n",
       "      <td>-12.175933</td>\n",
       "      <td>-0.45614</td>\n",
       "      <td>0.0</td>\n",
       "    </tr>\n",
       "    <tr>\n",
       "      <th>860048</th>\n",
       "      <td>2480469</td>\n",
       "      <td>2.0</td>\n",
       "      <td>1546203600</td>\n",
       "      <td>0.0</td>\n",
       "      <td>1532293200</td>\n",
       "      <td>-89.179971</td>\n",
       "      <td>-56.499112</td>\n",
       "      <td>-103.120786</td>\n",
       "      <td>-109.106798</td>\n",
       "      <td>-108.538246</td>\n",
       "      <td>...</td>\n",
       "      <td>-66.373846</td>\n",
       "      <td>-321.770792</td>\n",
       "      <td>-25.996269</td>\n",
       "      <td>62.369552</td>\n",
       "      <td>1167.252276</td>\n",
       "      <td>41.167111</td>\n",
       "      <td>-0.694428</td>\n",
       "      <td>54.824067</td>\n",
       "      <td>-0.45614</td>\n",
       "      <td>0.0</td>\n",
       "    </tr>\n",
       "    <tr>\n",
       "      <th>860049</th>\n",
       "      <td>158236</td>\n",
       "      <td>2.0</td>\n",
       "      <td>1546203600</td>\n",
       "      <td>0.0</td>\n",
       "      <td>1538946000</td>\n",
       "      <td>-96.799971</td>\n",
       "      <td>62.140888</td>\n",
       "      <td>-110.740786</td>\n",
       "      <td>9.533202</td>\n",
       "      <td>-116.158246</td>\n",
       "      <td>...</td>\n",
       "      <td>-683.373846</td>\n",
       "      <td>-470.770792</td>\n",
       "      <td>-25.996269</td>\n",
       "      <td>-37.630448</td>\n",
       "      <td>99.252276</td>\n",
       "      <td>178.167111</td>\n",
       "      <td>-0.694428</td>\n",
       "      <td>191.824067</td>\n",
       "      <td>-0.45614</td>\n",
       "      <td>0.0</td>\n",
       "    </tr>\n",
       "    <tr>\n",
       "      <th>860050</th>\n",
       "      <td>1825525</td>\n",
       "      <td>2.0</td>\n",
       "      <td>1546203600</td>\n",
       "      <td>0.0</td>\n",
       "      <td>1533502800</td>\n",
       "      <td>-96.799971</td>\n",
       "      <td>-81.919112</td>\n",
       "      <td>-110.740786</td>\n",
       "      <td>-128.596798</td>\n",
       "      <td>-116.158246</td>\n",
       "      <td>...</td>\n",
       "      <td>1018.626154</td>\n",
       "      <td>1367.229208</td>\n",
       "      <td>-24.996269</td>\n",
       "      <td>-35.630448</td>\n",
       "      <td>-237.747724</td>\n",
       "      <td>-21.832889</td>\n",
       "      <td>-0.694428</td>\n",
       "      <td>-8.175933</td>\n",
       "      <td>-0.45614</td>\n",
       "      <td>1.0</td>\n",
       "    </tr>\n",
       "    <tr>\n",
       "      <th>860051</th>\n",
       "      <td>3022610</td>\n",
       "      <td>2.0</td>\n",
       "      <td>1546203600</td>\n",
       "      <td>0.0</td>\n",
       "      <td>1540760400</td>\n",
       "      <td>-49.339971</td>\n",
       "      <td>-218.339112</td>\n",
       "      <td>73.139214</td>\n",
       "      <td>145.093202</td>\n",
       "      <td>67.721754</td>\n",
       "      <td>...</td>\n",
       "      <td>-977.373846</td>\n",
       "      <td>-613.770792</td>\n",
       "      <td>-25.996269</td>\n",
       "      <td>-37.630448</td>\n",
       "      <td>-303.747724</td>\n",
       "      <td>-25.832889</td>\n",
       "      <td>-0.694428</td>\n",
       "      <td>-12.175933</td>\n",
       "      <td>-0.45614</td>\n",
       "      <td>0.0</td>\n",
       "    </tr>\n",
       "  </tbody>\n",
       "</table>\n",
       "<p>860052 rows × 253 columns</p>\n",
       "</div>"
      ],
      "text/plain": [
       "             id  vas_id  buy_time_x  target  buy_time_y           0  \\\n",
       "0        540968     8.0  1537131600     0.0  1541970000  -31.559971   \n",
       "1       1454121     4.0  1531688400     0.0  1531083600  547.270029   \n",
       "2       2458816     1.0  1534107600     0.0  1543179600  -92.139971   \n",
       "3       3535012     5.0  1535922000     0.0  1533502800   54.880029   \n",
       "4       1693214     1.0  1535922000     0.0  1543179600   45.160029   \n",
       "...         ...     ...         ...     ...         ...         ...   \n",
       "860047  3812226     2.0  1546203600     0.0  1532898000   29.750029   \n",
       "860048  2480469     2.0  1546203600     0.0  1532293200  -89.179971   \n",
       "860049   158236     2.0  1546203600     0.0  1538946000  -96.799971   \n",
       "860050  1825525     2.0  1546203600     0.0  1533502800  -96.799971   \n",
       "860051  3022610     2.0  1546203600     0.0  1540760400  -49.339971   \n",
       "\n",
       "                 1           2           3           4  ...          243  \\\n",
       "0       327.360888  -45.500786  274.753202  -50.918246  ...  -845.373846   \n",
       "1       238.430888  533.329214  274.803202  527.911754  ...  -972.373846   \n",
       "2       -95.469112 -106.080786 -139.596798 -111.498246  ...  -977.373846   \n",
       "3        12.970888   54.079214   -9.116798   48.661754  ...  -977.373846   \n",
       "4       295.240888   64.679214  344.283202   59.261754  ...  -965.373846   \n",
       "...            ...         ...         ...         ...  ...          ...   \n",
       "860047    6.200888   24.279214  -37.936798   18.861754  ...  -977.373846   \n",
       "860048  -56.499112 -103.120786 -109.106798 -108.538246  ...   -66.373846   \n",
       "860049   62.140888 -110.740786    9.533202 -116.158246  ...  -683.373846   \n",
       "860050  -81.919112 -110.740786 -128.596798 -116.158246  ...  1018.626154   \n",
       "860051 -218.339112   73.139214  145.093202   67.721754  ...  -977.373846   \n",
       "\n",
       "                244        245        246          247         248       249  \\\n",
       "0       -613.770792 -20.996269 -37.630448   -28.747724    4.167111  7.305572   \n",
       "1       -613.770792 -25.996269 -19.630448  -278.747724  -24.832889 -0.694428   \n",
       "2       -613.770792 -25.996269 -37.630448  -304.747724  -25.832889 -0.694428   \n",
       "3       -613.770792 -25.996269 -18.630448  -133.747724  -14.832889 -0.694428   \n",
       "4       -612.770792 -22.996269 -32.630448  -127.747724   -4.832889 -0.694428   \n",
       "...             ...        ...        ...          ...         ...       ...   \n",
       "860047  -613.770792 -25.996269 -37.630448  -306.747724  -25.832889 -0.694428   \n",
       "860048  -321.770792 -25.996269  62.369552  1167.252276   41.167111 -0.694428   \n",
       "860049  -470.770792 -25.996269 -37.630448    99.252276  178.167111 -0.694428   \n",
       "860050  1367.229208 -24.996269 -35.630448  -237.747724  -21.832889 -0.694428   \n",
       "860051  -613.770792 -25.996269 -37.630448  -303.747724  -25.832889 -0.694428   \n",
       "\n",
       "               250       251  252  \n",
       "0       -12.175933  21.54386  0.0  \n",
       "1       -11.175933  -0.45614  0.0  \n",
       "2       -12.175933  -0.45614  0.0  \n",
       "3        -1.175933  -0.45614  0.0  \n",
       "4       -12.175933  -0.45614  0.0  \n",
       "...            ...       ...  ...  \n",
       "860047  -12.175933  -0.45614  0.0  \n",
       "860048   54.824067  -0.45614  0.0  \n",
       "860049  191.824067  -0.45614  0.0  \n",
       "860050   -8.175933  -0.45614  1.0  \n",
       "860051  -12.175933  -0.45614  0.0  \n",
       "\n",
       "[860052 rows x 253 columns]"
      ]
     },
     "execution_count": 24,
     "metadata": {},
     "output_type": "execute_result"
    }
   ],
   "source": [
    "df_train_with_features"
   ]
  },
  {
   "cell_type": "code",
   "execution_count": 25,
   "id": "5633c06a",
   "metadata": {},
   "outputs": [
    {
     "data": {
      "text/html": [
       "<div>\n",
       "<style scoped>\n",
       "    .dataframe tbody tr th:only-of-type {\n",
       "        vertical-align: middle;\n",
       "    }\n",
       "\n",
       "    .dataframe tbody tr th {\n",
       "        vertical-align: top;\n",
       "    }\n",
       "\n",
       "    .dataframe thead th {\n",
       "        text-align: right;\n",
       "    }\n",
       "</style>\n",
       "<table border=\"1\" class=\"dataframe\">\n",
       "  <thead>\n",
       "    <tr style=\"text-align: right;\">\n",
       "      <th></th>\n",
       "      <th>id</th>\n",
       "      <th>vas_id</th>\n",
       "      <th>buy_time_x</th>\n",
       "      <th>buy_time_y</th>\n",
       "      <th>0</th>\n",
       "      <th>1</th>\n",
       "      <th>2</th>\n",
       "      <th>3</th>\n",
       "      <th>4</th>\n",
       "      <th>5</th>\n",
       "      <th>...</th>\n",
       "      <th>243</th>\n",
       "      <th>244</th>\n",
       "      <th>245</th>\n",
       "      <th>246</th>\n",
       "      <th>247</th>\n",
       "      <th>248</th>\n",
       "      <th>249</th>\n",
       "      <th>250</th>\n",
       "      <th>251</th>\n",
       "      <th>252</th>\n",
       "    </tr>\n",
       "  </thead>\n",
       "  <tbody>\n",
       "    <tr>\n",
       "      <th>0</th>\n",
       "      <td>3130519</td>\n",
       "      <td>2.0</td>\n",
       "      <td>1548018000</td>\n",
       "      <td>1536526800</td>\n",
       "      <td>-62.899971</td>\n",
       "      <td>-374.279112</td>\n",
       "      <td>-72.600786</td>\n",
       "      <td>-418.406798</td>\n",
       "      <td>-78.018246</td>\n",
       "      <td>-439.51179</td>\n",
       "      <td>...</td>\n",
       "      <td>-970.373846</td>\n",
       "      <td>-613.770792</td>\n",
       "      <td>-25.996269</td>\n",
       "      <td>-37.630448</td>\n",
       "      <td>-258.747724</td>\n",
       "      <td>-25.832889</td>\n",
       "      <td>-0.694428</td>\n",
       "      <td>-12.175933</td>\n",
       "      <td>-0.45614</td>\n",
       "      <td>0.0</td>\n",
       "    </tr>\n",
       "    <tr>\n",
       "      <th>1</th>\n",
       "      <td>2000860</td>\n",
       "      <td>4.0</td>\n",
       "      <td>1548018000</td>\n",
       "      <td>1532293200</td>\n",
       "      <td>-96.799971</td>\n",
       "      <td>100.290888</td>\n",
       "      <td>-110.740786</td>\n",
       "      <td>140.903202</td>\n",
       "      <td>-116.158246</td>\n",
       "      <td>119.79821</td>\n",
       "      <td>...</td>\n",
       "      <td>-977.373846</td>\n",
       "      <td>-613.770792</td>\n",
       "      <td>-25.996269</td>\n",
       "      <td>-37.630448</td>\n",
       "      <td>-254.747724</td>\n",
       "      <td>-25.832889</td>\n",
       "      <td>-0.694428</td>\n",
       "      <td>-12.175933</td>\n",
       "      <td>-0.45614</td>\n",
       "      <td>0.0</td>\n",
       "    </tr>\n",
       "    <tr>\n",
       "      <th>2</th>\n",
       "      <td>1099444</td>\n",
       "      <td>2.0</td>\n",
       "      <td>1546808400</td>\n",
       "      <td>1541365200</td>\n",
       "      <td>-81.969971</td>\n",
       "      <td>-390.729112</td>\n",
       "      <td>-95.910786</td>\n",
       "      <td>-443.336798</td>\n",
       "      <td>-101.328246</td>\n",
       "      <td>-464.44179</td>\n",
       "      <td>...</td>\n",
       "      <td>-977.373846</td>\n",
       "      <td>-613.770792</td>\n",
       "      <td>-25.996269</td>\n",
       "      <td>-37.630448</td>\n",
       "      <td>-306.747724</td>\n",
       "      <td>-25.832889</td>\n",
       "      <td>-0.694428</td>\n",
       "      <td>-12.175933</td>\n",
       "      <td>-0.45614</td>\n",
       "      <td>1.0</td>\n",
       "    </tr>\n",
       "    <tr>\n",
       "      <th>3</th>\n",
       "      <td>1343255</td>\n",
       "      <td>5.0</td>\n",
       "      <td>1547413200</td>\n",
       "      <td>1536526800</td>\n",
       "      <td>259.130029</td>\n",
       "      <td>-52.249112</td>\n",
       "      <td>245.189214</td>\n",
       "      <td>-104.856798</td>\n",
       "      <td>239.771754</td>\n",
       "      <td>-125.96179</td>\n",
       "      <td>...</td>\n",
       "      <td>-977.373846</td>\n",
       "      <td>-613.770792</td>\n",
       "      <td>-25.996269</td>\n",
       "      <td>-37.630448</td>\n",
       "      <td>-306.747724</td>\n",
       "      <td>-25.832889</td>\n",
       "      <td>-0.694428</td>\n",
       "      <td>-12.175933</td>\n",
       "      <td>-0.45614</td>\n",
       "      <td>1.0</td>\n",
       "    </tr>\n",
       "    <tr>\n",
       "      <th>4</th>\n",
       "      <td>1277040</td>\n",
       "      <td>2.0</td>\n",
       "      <td>1546808400</td>\n",
       "      <td>1532293200</td>\n",
       "      <td>331.170029</td>\n",
       "      <td>590.890888</td>\n",
       "      <td>317.229214</td>\n",
       "      <td>538.283202</td>\n",
       "      <td>311.811754</td>\n",
       "      <td>522.25821</td>\n",
       "      <td>...</td>\n",
       "      <td>-651.373846</td>\n",
       "      <td>-612.770792</td>\n",
       "      <td>1.003731</td>\n",
       "      <td>-36.630448</td>\n",
       "      <td>38.252276</td>\n",
       "      <td>-12.832889</td>\n",
       "      <td>-0.694428</td>\n",
       "      <td>-12.175933</td>\n",
       "      <td>12.54386</td>\n",
       "      <td>0.0</td>\n",
       "    </tr>\n",
       "    <tr>\n",
       "      <th>...</th>\n",
       "      <td>...</td>\n",
       "      <td>...</td>\n",
       "      <td>...</td>\n",
       "      <td>...</td>\n",
       "      <td>...</td>\n",
       "      <td>...</td>\n",
       "      <td>...</td>\n",
       "      <td>...</td>\n",
       "      <td>...</td>\n",
       "      <td>...</td>\n",
       "      <td>...</td>\n",
       "      <td>...</td>\n",
       "      <td>...</td>\n",
       "      <td>...</td>\n",
       "      <td>...</td>\n",
       "      <td>...</td>\n",
       "      <td>...</td>\n",
       "      <td>...</td>\n",
       "      <td>...</td>\n",
       "      <td>...</td>\n",
       "      <td>...</td>\n",
       "    </tr>\n",
       "    <tr>\n",
       "      <th>73661</th>\n",
       "      <td>2502453</td>\n",
       "      <td>5.0</td>\n",
       "      <td>1548018000</td>\n",
       "      <td>1534712400</td>\n",
       "      <td>-96.799971</td>\n",
       "      <td>-408.179112</td>\n",
       "      <td>-110.740786</td>\n",
       "      <td>-460.786798</td>\n",
       "      <td>-116.158246</td>\n",
       "      <td>-481.89179</td>\n",
       "      <td>...</td>\n",
       "      <td>-977.373846</td>\n",
       "      <td>-613.770792</td>\n",
       "      <td>-25.996269</td>\n",
       "      <td>-37.630448</td>\n",
       "      <td>-306.747724</td>\n",
       "      <td>-25.832889</td>\n",
       "      <td>-0.694428</td>\n",
       "      <td>-12.175933</td>\n",
       "      <td>-0.45614</td>\n",
       "      <td>0.0</td>\n",
       "    </tr>\n",
       "    <tr>\n",
       "      <th>73662</th>\n",
       "      <td>1693213</td>\n",
       "      <td>2.0</td>\n",
       "      <td>1548018000</td>\n",
       "      <td>1541970000</td>\n",
       "      <td>-89.689971</td>\n",
       "      <td>-355.809112</td>\n",
       "      <td>-103.630786</td>\n",
       "      <td>-408.416798</td>\n",
       "      <td>-109.048246</td>\n",
       "      <td>-429.52179</td>\n",
       "      <td>...</td>\n",
       "      <td>-977.373846</td>\n",
       "      <td>-613.770792</td>\n",
       "      <td>-25.996269</td>\n",
       "      <td>-37.630448</td>\n",
       "      <td>-306.747724</td>\n",
       "      <td>-25.832889</td>\n",
       "      <td>-0.694428</td>\n",
       "      <td>-12.175933</td>\n",
       "      <td>-0.45614</td>\n",
       "      <td>0.0</td>\n",
       "    </tr>\n",
       "    <tr>\n",
       "      <th>73663</th>\n",
       "      <td>1891350</td>\n",
       "      <td>2.0</td>\n",
       "      <td>1548018000</td>\n",
       "      <td>1545598800</td>\n",
       "      <td>-96.799971</td>\n",
       "      <td>-281.059112</td>\n",
       "      <td>-110.740786</td>\n",
       "      <td>-333.666798</td>\n",
       "      <td>-116.158246</td>\n",
       "      <td>-354.77179</td>\n",
       "      <td>...</td>\n",
       "      <td>1640.626154</td>\n",
       "      <td>1927.229208</td>\n",
       "      <td>-25.996269</td>\n",
       "      <td>-32.630448</td>\n",
       "      <td>-33.747724</td>\n",
       "      <td>-18.832889</td>\n",
       "      <td>-0.694428</td>\n",
       "      <td>-10.175933</td>\n",
       "      <td>-0.45614</td>\n",
       "      <td>0.0</td>\n",
       "    </tr>\n",
       "    <tr>\n",
       "      <th>73664</th>\n",
       "      <td>2437172</td>\n",
       "      <td>2.0</td>\n",
       "      <td>1548018000</td>\n",
       "      <td>1532293200</td>\n",
       "      <td>115.060029</td>\n",
       "      <td>-87.339112</td>\n",
       "      <td>101.119214</td>\n",
       "      <td>-127.236798</td>\n",
       "      <td>95.701754</td>\n",
       "      <td>-148.34179</td>\n",
       "      <td>...</td>\n",
       "      <td>-977.373846</td>\n",
       "      <td>-613.770792</td>\n",
       "      <td>-25.996269</td>\n",
       "      <td>-37.630448</td>\n",
       "      <td>-280.747724</td>\n",
       "      <td>119.167111</td>\n",
       "      <td>-0.694428</td>\n",
       "      <td>132.824067</td>\n",
       "      <td>-0.45614</td>\n",
       "      <td>0.0</td>\n",
       "    </tr>\n",
       "    <tr>\n",
       "      <th>73665</th>\n",
       "      <td>988236</td>\n",
       "      <td>2.0</td>\n",
       "      <td>1548018000</td>\n",
       "      <td>1535922000</td>\n",
       "      <td>-96.799971</td>\n",
       "      <td>68.510888</td>\n",
       "      <td>-110.740786</td>\n",
       "      <td>15.903202</td>\n",
       "      <td>-116.158246</td>\n",
       "      <td>83.76821</td>\n",
       "      <td>...</td>\n",
       "      <td>-976.373846</td>\n",
       "      <td>-613.770792</td>\n",
       "      <td>-25.996269</td>\n",
       "      <td>-31.630448</td>\n",
       "      <td>-265.747724</td>\n",
       "      <td>38.167111</td>\n",
       "      <td>-0.694428</td>\n",
       "      <td>51.824067</td>\n",
       "      <td>-0.45614</td>\n",
       "      <td>0.0</td>\n",
       "    </tr>\n",
       "  </tbody>\n",
       "</table>\n",
       "<p>73666 rows × 252 columns</p>\n",
       "</div>"
      ],
      "text/plain": [
       "            id  vas_id  buy_time_x  buy_time_y           0           1  \\\n",
       "0      3130519     2.0  1548018000  1536526800  -62.899971 -374.279112   \n",
       "1      2000860     4.0  1548018000  1532293200  -96.799971  100.290888   \n",
       "2      1099444     2.0  1546808400  1541365200  -81.969971 -390.729112   \n",
       "3      1343255     5.0  1547413200  1536526800  259.130029  -52.249112   \n",
       "4      1277040     2.0  1546808400  1532293200  331.170029  590.890888   \n",
       "...        ...     ...         ...         ...         ...         ...   \n",
       "73661  2502453     5.0  1548018000  1534712400  -96.799971 -408.179112   \n",
       "73662  1693213     2.0  1548018000  1541970000  -89.689971 -355.809112   \n",
       "73663  1891350     2.0  1548018000  1545598800  -96.799971 -281.059112   \n",
       "73664  2437172     2.0  1548018000  1532293200  115.060029  -87.339112   \n",
       "73665   988236     2.0  1548018000  1535922000  -96.799971   68.510888   \n",
       "\n",
       "                2           3           4          5  ...          243  \\\n",
       "0      -72.600786 -418.406798  -78.018246 -439.51179  ...  -970.373846   \n",
       "1     -110.740786  140.903202 -116.158246  119.79821  ...  -977.373846   \n",
       "2      -95.910786 -443.336798 -101.328246 -464.44179  ...  -977.373846   \n",
       "3      245.189214 -104.856798  239.771754 -125.96179  ...  -977.373846   \n",
       "4      317.229214  538.283202  311.811754  522.25821  ...  -651.373846   \n",
       "...           ...         ...         ...        ...  ...          ...   \n",
       "73661 -110.740786 -460.786798 -116.158246 -481.89179  ...  -977.373846   \n",
       "73662 -103.630786 -408.416798 -109.048246 -429.52179  ...  -977.373846   \n",
       "73663 -110.740786 -333.666798 -116.158246 -354.77179  ...  1640.626154   \n",
       "73664  101.119214 -127.236798   95.701754 -148.34179  ...  -977.373846   \n",
       "73665 -110.740786   15.903202 -116.158246   83.76821  ...  -976.373846   \n",
       "\n",
       "               244        245        246         247         248       249  \\\n",
       "0      -613.770792 -25.996269 -37.630448 -258.747724  -25.832889 -0.694428   \n",
       "1      -613.770792 -25.996269 -37.630448 -254.747724  -25.832889 -0.694428   \n",
       "2      -613.770792 -25.996269 -37.630448 -306.747724  -25.832889 -0.694428   \n",
       "3      -613.770792 -25.996269 -37.630448 -306.747724  -25.832889 -0.694428   \n",
       "4      -612.770792   1.003731 -36.630448   38.252276  -12.832889 -0.694428   \n",
       "...            ...        ...        ...         ...         ...       ...   \n",
       "73661  -613.770792 -25.996269 -37.630448 -306.747724  -25.832889 -0.694428   \n",
       "73662  -613.770792 -25.996269 -37.630448 -306.747724  -25.832889 -0.694428   \n",
       "73663  1927.229208 -25.996269 -32.630448  -33.747724  -18.832889 -0.694428   \n",
       "73664  -613.770792 -25.996269 -37.630448 -280.747724  119.167111 -0.694428   \n",
       "73665  -613.770792 -25.996269 -31.630448 -265.747724   38.167111 -0.694428   \n",
       "\n",
       "              250       251  252  \n",
       "0      -12.175933  -0.45614  0.0  \n",
       "1      -12.175933  -0.45614  0.0  \n",
       "2      -12.175933  -0.45614  1.0  \n",
       "3      -12.175933  -0.45614  1.0  \n",
       "4      -12.175933  12.54386  0.0  \n",
       "...           ...       ...  ...  \n",
       "73661  -12.175933  -0.45614  0.0  \n",
       "73662  -12.175933  -0.45614  0.0  \n",
       "73663  -10.175933  -0.45614  0.0  \n",
       "73664  132.824067  -0.45614  0.0  \n",
       "73665   51.824067  -0.45614  0.0  \n",
       "\n",
       "[73666 rows x 252 columns]"
      ]
     },
     "execution_count": 25,
     "metadata": {},
     "output_type": "execute_result"
    }
   ],
   "source": [
    "df_test_with_features"
   ]
  },
  {
   "cell_type": "code",
   "execution_count": 26,
   "id": "07511be7",
   "metadata": {},
   "outputs": [
    {
     "data": {
      "text/plain": [
       "False    70152\n",
       "True      3514\n",
       "dtype: int64"
      ]
     },
     "execution_count": 26,
     "metadata": {},
     "output_type": "execute_result"
    }
   ],
   "source": [
    "df_test_with_features.duplicated(subset=['id']).value_counts()"
   ]
  },
  {
   "cell_type": "code",
   "execution_count": 27,
   "id": "7ffad169",
   "metadata": {},
   "outputs": [],
   "source": [
    "# %%time\n",
    "# df_train_with_features.to_csv(DATA_TRAIN_WITH_FEATURES_PATH)"
   ]
  },
  {
   "cell_type": "code",
   "execution_count": 28,
   "id": "a9d3e9e2",
   "metadata": {},
   "outputs": [],
   "source": [
    "# %%time\n",
    "# df_test_with_features.to_csv(DATA_TEST_WITH_FEATURES_PATH)"
   ]
  },
  {
   "cell_type": "code",
   "execution_count": 29,
   "id": "e8262afc",
   "metadata": {},
   "outputs": [],
   "source": [
    "# features.to_csv(PREPARE_FEATURES_PATH)"
   ]
  },
  {
   "cell_type": "markdown",
   "id": "e5349e53",
   "metadata": {},
   "source": [
    "### Разделим датасет на train и test."
   ]
  },
  {
   "cell_type": "code",
   "execution_count": 30,
   "id": "6b7cc983",
   "metadata": {},
   "outputs": [],
   "source": [
    "X = df_train_with_features.drop('target', axis=1)\n",
    "y = df_train_with_features.target\n",
    "X_actual = df_test_with_features"
   ]
  },
  {
   "cell_type": "code",
   "execution_count": 31,
   "id": "be14dfac",
   "metadata": {},
   "outputs": [
    {
     "data": {
      "text/html": [
       "<div>\n",
       "<style scoped>\n",
       "    .dataframe tbody tr th:only-of-type {\n",
       "        vertical-align: middle;\n",
       "    }\n",
       "\n",
       "    .dataframe tbody tr th {\n",
       "        vertical-align: top;\n",
       "    }\n",
       "\n",
       "    .dataframe thead th {\n",
       "        text-align: right;\n",
       "    }\n",
       "</style>\n",
       "<table border=\"1\" class=\"dataframe\">\n",
       "  <thead>\n",
       "    <tr style=\"text-align: right;\">\n",
       "      <th></th>\n",
       "      <th>id</th>\n",
       "      <th>vas_id</th>\n",
       "      <th>buy_time_x</th>\n",
       "      <th>buy_time_y</th>\n",
       "      <th>0</th>\n",
       "      <th>1</th>\n",
       "      <th>2</th>\n",
       "      <th>3</th>\n",
       "      <th>4</th>\n",
       "      <th>5</th>\n",
       "      <th>...</th>\n",
       "      <th>243</th>\n",
       "      <th>244</th>\n",
       "      <th>245</th>\n",
       "      <th>246</th>\n",
       "      <th>247</th>\n",
       "      <th>248</th>\n",
       "      <th>249</th>\n",
       "      <th>250</th>\n",
       "      <th>251</th>\n",
       "      <th>252</th>\n",
       "    </tr>\n",
       "  </thead>\n",
       "  <tbody>\n",
       "    <tr>\n",
       "      <th>0</th>\n",
       "      <td>540968</td>\n",
       "      <td>8.0</td>\n",
       "      <td>1537131600</td>\n",
       "      <td>1541970000</td>\n",
       "      <td>-31.559971</td>\n",
       "      <td>327.360888</td>\n",
       "      <td>-45.500786</td>\n",
       "      <td>274.753202</td>\n",
       "      <td>-50.918246</td>\n",
       "      <td>253.64821</td>\n",
       "      <td>...</td>\n",
       "      <td>-845.373846</td>\n",
       "      <td>-613.770792</td>\n",
       "      <td>-20.996269</td>\n",
       "      <td>-37.630448</td>\n",
       "      <td>-28.747724</td>\n",
       "      <td>4.167111</td>\n",
       "      <td>7.305572</td>\n",
       "      <td>-12.175933</td>\n",
       "      <td>21.54386</td>\n",
       "      <td>0.0</td>\n",
       "    </tr>\n",
       "    <tr>\n",
       "      <th>1</th>\n",
       "      <td>1454121</td>\n",
       "      <td>4.0</td>\n",
       "      <td>1531688400</td>\n",
       "      <td>1531083600</td>\n",
       "      <td>547.270029</td>\n",
       "      <td>238.430888</td>\n",
       "      <td>533.329214</td>\n",
       "      <td>274.803202</td>\n",
       "      <td>527.911754</td>\n",
       "      <td>253.69821</td>\n",
       "      <td>...</td>\n",
       "      <td>-972.373846</td>\n",
       "      <td>-613.770792</td>\n",
       "      <td>-25.996269</td>\n",
       "      <td>-19.630448</td>\n",
       "      <td>-278.747724</td>\n",
       "      <td>-24.832889</td>\n",
       "      <td>-0.694428</td>\n",
       "      <td>-11.175933</td>\n",
       "      <td>-0.45614</td>\n",
       "      <td>0.0</td>\n",
       "    </tr>\n",
       "  </tbody>\n",
       "</table>\n",
       "<p>2 rows × 252 columns</p>\n",
       "</div>"
      ],
      "text/plain": [
       "        id  vas_id  buy_time_x  buy_time_y           0           1  \\\n",
       "0   540968     8.0  1537131600  1541970000  -31.559971  327.360888   \n",
       "1  1454121     4.0  1531688400  1531083600  547.270029  238.430888   \n",
       "\n",
       "            2           3           4          5  ...         243         244  \\\n",
       "0  -45.500786  274.753202  -50.918246  253.64821  ... -845.373846 -613.770792   \n",
       "1  533.329214  274.803202  527.911754  253.69821  ... -972.373846 -613.770792   \n",
       "\n",
       "         245        246         247        248       249        250       251  \\\n",
       "0 -20.996269 -37.630448  -28.747724   4.167111  7.305572 -12.175933  21.54386   \n",
       "1 -25.996269 -19.630448 -278.747724 -24.832889 -0.694428 -11.175933  -0.45614   \n",
       "\n",
       "   252  \n",
       "0  0.0  \n",
       "1  0.0  \n",
       "\n",
       "[2 rows x 252 columns]"
      ]
     },
     "execution_count": 31,
     "metadata": {},
     "output_type": "execute_result"
    }
   ],
   "source": [
    "X.head(2)"
   ]
  },
  {
   "cell_type": "code",
   "execution_count": 32,
   "id": "2c36519d",
   "metadata": {},
   "outputs": [
    {
     "data": {
      "text/plain": [
       "0    0.0\n",
       "1    0.0\n",
       "Name: target, dtype: float64"
      ]
     },
     "execution_count": 32,
     "metadata": {},
     "output_type": "execute_result"
    }
   ],
   "source": [
    "y.head(2)"
   ]
  },
  {
   "cell_type": "code",
   "execution_count": 33,
   "id": "7a185313",
   "metadata": {},
   "outputs": [
    {
     "name": "stdout",
     "output_type": "stream",
     "text": [
      "Wall time: 4.59 s\n"
     ]
    }
   ],
   "source": [
    "%%time\n",
    "X_train, X_test, y_train, y_test = train_test_split(X, y, test_size=0.2, random_state=42)"
   ]
  },
  {
   "cell_type": "markdown",
   "id": "1edd8129",
   "metadata": {},
   "source": [
    "### Часть 2. Обучение модели и оценка результата"
   ]
  },
  {
   "cell_type": "markdown",
   "id": "e13a911b",
   "metadata": {},
   "source": [
    "**Напишем функцию для удобного вывода результатов:**"
   ]
  },
  {
   "cell_type": "code",
   "execution_count": 34,
   "id": "edb4c952",
   "metadata": {},
   "outputs": [],
   "source": [
    "def get_classification_report(y_train_true, y_train_pred, y_test_true, y_test_pred):\n",
    "    print('TRAIN\\n\\n' + classification_report(y_train_true, y_train_pred))\n",
    "    print('TEST\\n\\n' + classification_report(y_test_true, y_test_pred))\n",
    "    print('CONFUSION MATRIX\\n')\n",
    "    print(pd.crosstab(y_test_true, y_test_pred))"
   ]
  },
  {
   "cell_type": "markdown",
   "id": "9844c959",
   "metadata": {},
   "source": [
    "**В качестве модели возьмем CatBoostClassifier. Модель хорошо работает с пропусками и категориальными данными.**"
   ]
  },
  {
   "cell_type": "markdown",
   "id": "4940b680",
   "metadata": {},
   "source": [
    "**У нас наблюдается сильный дисбаланс классов, поэтому применим параметр auto_class_weights='Balanced'.**"
   ]
  },
  {
   "cell_type": "code",
   "execution_count": 35,
   "id": "a3bc24cc",
   "metadata": {},
   "outputs": [
    {
     "data": {
      "application/vnd.jupyter.widget-view+json": {
       "model_id": "69d37c5f643a465a9c2f2d1b33bcdee7",
       "version_major": 2,
       "version_minor": 0
      },
      "text/plain": [
       "MetricVisualizer(layout=Layout(align_self='stretch', height='500px'))"
      ]
     },
     "metadata": {},
     "output_type": "display_data"
    },
    {
     "name": "stdout",
     "output_type": "stream",
     "text": [
      "TRAIN\n",
      "\n",
      "              precision    recall  f1-score   support\n",
      "\n",
      "         0.0       0.99      0.87      0.92    638307\n",
      "         1.0       0.35      0.91      0.50     49734\n",
      "\n",
      "    accuracy                           0.87    688041\n",
      "   macro avg       0.67      0.89      0.71    688041\n",
      "weighted avg       0.95      0.87      0.89    688041\n",
      "\n",
      "TEST\n",
      "\n",
      "              precision    recall  f1-score   support\n",
      "\n",
      "         0.0       0.99      0.87      0.93    159538\n",
      "         1.0       0.35      0.91      0.51     12473\n",
      "\n",
      "    accuracy                           0.87    172011\n",
      "   macro avg       0.67      0.89      0.72    172011\n",
      "weighted avg       0.95      0.87      0.89    172011\n",
      "\n",
      "CONFUSION MATRIX\n",
      "\n",
      "col_0      0.0    1.0\n",
      "target               \n",
      "0.0     138315  21223\n",
      "1.0       1086  11387\n",
      "Wall time: 1min 47s\n"
     ]
    }
   ],
   "source": [
    "%%time\n",
    "model = catb.CatBoostClassifier(auto_class_weights='Balanced',\n",
    "                                early_stopping_rounds=20,\n",
    "                                silent=True, \n",
    "                                random_state=42)\n",
    "model.fit(X_train, y_train, eval_set=(X_test, y_test), plot=True)\n",
    "\n",
    "y_train_pred = model.predict(X_train)\n",
    "y_test_pred = model.predict(X_test)\n",
    "y_test_pred_probs = model.predict_proba(X_test)\n",
    "\n",
    "get_classification_report(y_train, y_train_pred, y_test, y_test_pred)"
   ]
  },
  {
   "cell_type": "markdown",
   "id": "56019931",
   "metadata": {},
   "source": [
    "### Выведем скоринг модели отдельной строкой:"
   ]
  },
  {
   "cell_type": "code",
   "execution_count": 36,
   "id": "253d8fa7",
   "metadata": {},
   "outputs": [
    {
     "data": {
      "text/plain": [
       "0.7152649447436665"
      ]
     },
     "execution_count": 36,
     "metadata": {},
     "output_type": "execute_result"
    }
   ],
   "source": [
    "f1_score(\n",
    "  y_test,\n",
    "  y_test_pred,\n",
    "  average='macro'\n",
    ")"
   ]
  },
  {
   "cell_type": "markdown",
   "id": "a48aaaa6",
   "metadata": {},
   "source": [
    "### Посмотрим какие признаки для модели оказались наиболее полезными: "
   ]
  },
  {
   "cell_type": "code",
   "execution_count": 37,
   "id": "4ea58b02",
   "metadata": {},
   "outputs": [
    {
     "data": {
      "text/plain": [
       "array([8.80415510e-01, 5.12705413e+01, 4.50679295e+01, 1.98113412e-02,\n",
       "       7.58608404e-03, 1.16884456e-02, 4.83623124e-03, 1.79960691e-02,\n",
       "       2.43652500e-02, 1.51878378e-02, 1.93789182e-02, 0.00000000e+00,\n",
       "       2.28037401e-03, 7.25873612e-03, 2.82091543e-03, 1.60922178e-03,\n",
       "       5.10111113e-03, 7.62123479e-03, 7.32523292e-03, 0.00000000e+00,\n",
       "       0.00000000e+00, 0.00000000e+00, 9.45995896e-03, 1.94030214e-02,\n",
       "       3.80299682e-03, 2.18462349e-02, 4.41126029e-03, 0.00000000e+00,\n",
       "       0.00000000e+00, 2.17727819e-02, 0.00000000e+00, 2.87358416e-03,\n",
       "       5.63849501e-06, 0.00000000e+00, 0.00000000e+00, 0.00000000e+00,\n",
       "       0.00000000e+00, 0.00000000e+00, 6.31449002e-03, 0.00000000e+00,\n",
       "       3.68257724e-02, 2.19319476e-02, 6.99583155e-03, 1.51177181e-02,\n",
       "       1.93780048e-02, 1.77656374e-02, 4.35918397e-03, 4.43375756e-02,\n",
       "       2.90906466e-02, 2.95044296e-03, 1.11938742e-02, 1.04378562e-02,\n",
       "       1.56028517e-02, 0.00000000e+00, 1.09135496e-02, 1.99440983e-02,\n",
       "       5.95553256e-02, 1.40120458e-02, 0.00000000e+00, 1.63482821e-02,\n",
       "       1.09728462e-02, 0.00000000e+00, 1.92729801e-02, 5.73241254e-03,\n",
       "       4.24160687e-02, 0.00000000e+00, 3.55079406e-03, 2.34604721e-02,\n",
       "       2.60899426e-02, 1.42133700e-02, 9.83450115e-03, 3.26406238e-02,\n",
       "       2.49110104e-03, 6.07961588e-03, 2.66084278e-03, 4.07064816e-03,\n",
       "       0.00000000e+00, 1.49198652e-03, 3.99134302e-03, 2.54834212e-03,\n",
       "       1.47555886e-02, 0.00000000e+00, 0.00000000e+00, 4.47053908e-03,\n",
       "       9.35901232e-03, 0.00000000e+00, 0.00000000e+00, 0.00000000e+00,\n",
       "       4.27774503e-04, 0.00000000e+00, 6.36169536e-03, 0.00000000e+00,\n",
       "       2.18427037e-03, 1.81267106e-03, 1.03770576e-03, 0.00000000e+00,\n",
       "       0.00000000e+00, 2.59002304e-03, 7.88370088e-03, 0.00000000e+00,\n",
       "       8.78447609e-03, 4.31251731e-03, 4.79622855e-03, 6.23996814e-03,\n",
       "       1.38548092e-02, 9.23702993e-03, 4.66723037e-03, 1.01234590e-02,\n",
       "       8.01249341e-03, 2.97702292e-03, 0.00000000e+00, 3.73076122e-03,\n",
       "       2.22227455e-02, 1.49657640e-02, 8.48425582e-03, 1.37500060e-02,\n",
       "       6.04806142e-02, 1.08746821e-02, 3.28932992e-02, 2.30640362e-04,\n",
       "       6.25628392e-04, 0.00000000e+00, 4.78226280e-03, 2.99527820e-04,\n",
       "       4.82659859e-03, 1.19072467e-03, 7.97153992e-03, 2.47775327e-02,\n",
       "       3.69141121e-02, 1.97038604e-02, 2.23185225e-02, 3.55230225e-02,\n",
       "       0.00000000e+00, 0.00000000e+00, 9.31549176e-03, 3.36175158e-02,\n",
       "       1.49105917e-02, 1.34419437e-02, 1.59784325e-02, 3.99461762e-03,\n",
       "       1.22211731e-02, 8.28213863e-04, 3.09699760e-03, 4.41021543e-02,\n",
       "       5.49737024e-02, 8.77100402e-03, 2.24187958e-02, 6.20650382e-03,\n",
       "       1.68004481e-02, 7.04997976e-03, 1.02922401e-02, 1.35334519e-02,\n",
       "       1.78860627e-02, 6.34321721e-04, 0.00000000e+00, 0.00000000e+00,\n",
       "       3.35810497e-03, 1.57001226e-04, 9.58237185e-04, 4.54656942e-03,\n",
       "       2.56571791e-02, 3.69371276e-03, 1.01447651e-02, 6.29358169e-04,\n",
       "       4.67305461e-02, 1.50362965e-02, 7.35205399e-03, 2.72722131e-02,\n",
       "       8.71575934e-03, 2.65598179e-03, 7.26263978e-03, 1.25872504e-02,\n",
       "       1.64037365e-02, 0.00000000e+00, 0.00000000e+00, 2.78444617e-03,\n",
       "       2.43399098e-03, 0.00000000e+00, 1.44047267e-03, 0.00000000e+00,\n",
       "       0.00000000e+00, 2.74951765e-03, 2.57270776e-03, 0.00000000e+00,\n",
       "       6.25088243e-03, 1.21870218e-02, 1.41490464e-02, 1.68649747e-02,\n",
       "       2.47121473e-02, 3.64850865e-04, 5.90980356e-03, 1.34847579e-02,\n",
       "       0.00000000e+00, 1.99525818e-02, 8.20424145e-03, 0.00000000e+00,\n",
       "       0.00000000e+00, 1.19611588e-03, 2.38320543e-03, 0.00000000e+00,\n",
       "       0.00000000e+00, 9.17114102e-03, 1.05986209e-02, 7.19895361e-03,\n",
       "       0.00000000e+00, 3.07798924e-03, 3.46301654e-02, 5.73301359e-03,\n",
       "       4.87347144e-03, 3.94595260e-02, 3.13399070e-02, 4.84400901e-03,\n",
       "       5.72707700e-02, 4.46704202e-03, 6.44791186e-03, 0.00000000e+00,\n",
       "       1.04341433e-02, 0.00000000e+00, 1.33527970e-02, 7.84277640e-03,\n",
       "       1.37776398e-03, 2.55405190e-02, 1.96082400e-02, 1.85226377e-02,\n",
       "       1.72955730e-02, 2.64759999e-02, 2.53354610e-02, 2.29253774e-02,\n",
       "       2.85381968e-02, 9.39851685e-03, 4.11035003e-03, 0.00000000e+00,\n",
       "       1.52734184e-02, 2.45035776e-02, 7.95319030e-03, 3.10348095e-02,\n",
       "       1.84744488e-02, 3.50047048e-02, 3.21497833e-02, 1.59851974e-02,\n",
       "       3.49296107e-02, 2.50153910e-02, 2.83706867e-02, 2.12901276e-02,\n",
       "       9.11475156e-03, 1.00205942e-02, 3.76770984e-02, 4.79318968e-02,\n",
       "       7.32120853e-03, 7.18325021e-03, 1.76434021e-02, 0.00000000e+00])"
      ]
     },
     "execution_count": 37,
     "metadata": {},
     "output_type": "execute_result"
    }
   ],
   "source": [
    "model.feature_importances_"
   ]
  },
  {
   "cell_type": "code",
   "execution_count": 38,
   "id": "1de3d913",
   "metadata": {},
   "outputs": [],
   "source": [
    "feature_importances = pd.DataFrame(zip(X_train.columns, \n",
    "                                   model.feature_importances_), \n",
    "                                   columns=['feature_name', 'importance'])\n",
    "\n",
    "# feature_importances.sort_values(by='importance', ascending=, inplace=True)"
   ]
  },
  {
   "cell_type": "code",
   "execution_count": 39,
   "id": "f012e816",
   "metadata": {},
   "outputs": [
    {
     "data": {
      "text/html": [
       "<div>\n",
       "<style scoped>\n",
       "    .dataframe tbody tr th:only-of-type {\n",
       "        vertical-align: middle;\n",
       "    }\n",
       "\n",
       "    .dataframe tbody tr th {\n",
       "        vertical-align: top;\n",
       "    }\n",
       "\n",
       "    .dataframe thead th {\n",
       "        text-align: right;\n",
       "    }\n",
       "</style>\n",
       "<table border=\"1\" class=\"dataframe\">\n",
       "  <thead>\n",
       "    <tr style=\"text-align: right;\">\n",
       "      <th></th>\n",
       "      <th>feature_name</th>\n",
       "      <th>importance</th>\n",
       "    </tr>\n",
       "  </thead>\n",
       "  <tbody>\n",
       "    <tr>\n",
       "      <th>0</th>\n",
       "      <td>id</td>\n",
       "      <td>0.880416</td>\n",
       "    </tr>\n",
       "    <tr>\n",
       "      <th>1</th>\n",
       "      <td>vas_id</td>\n",
       "      <td>51.270541</td>\n",
       "    </tr>\n",
       "    <tr>\n",
       "      <th>2</th>\n",
       "      <td>buy_time_x</td>\n",
       "      <td>45.067929</td>\n",
       "    </tr>\n",
       "    <tr>\n",
       "      <th>3</th>\n",
       "      <td>buy_time_y</td>\n",
       "      <td>0.019811</td>\n",
       "    </tr>\n",
       "    <tr>\n",
       "      <th>4</th>\n",
       "      <td>0</td>\n",
       "      <td>0.007586</td>\n",
       "    </tr>\n",
       "  </tbody>\n",
       "</table>\n",
       "</div>"
      ],
      "text/plain": [
       "  feature_name  importance\n",
       "0           id    0.880416\n",
       "1       vas_id   51.270541\n",
       "2   buy_time_x   45.067929\n",
       "3   buy_time_y    0.019811\n",
       "4            0    0.007586"
      ]
     },
     "execution_count": 39,
     "metadata": {},
     "output_type": "execute_result"
    }
   ],
   "source": [
    "feature_importances.head()"
   ]
  },
  {
   "cell_type": "code",
   "execution_count": 40,
   "id": "21bfaca5",
   "metadata": {},
   "outputs": [],
   "source": [
    "feature_importances.sort_values(by='importance', ascending=False, inplace=True)"
   ]
  },
  {
   "cell_type": "code",
   "execution_count": 41,
   "id": "8dad940b",
   "metadata": {},
   "outputs": [
    {
     "data": {
      "text/html": [
       "<div>\n",
       "<style scoped>\n",
       "    .dataframe tbody tr th:only-of-type {\n",
       "        vertical-align: middle;\n",
       "    }\n",
       "\n",
       "    .dataframe tbody tr th {\n",
       "        vertical-align: top;\n",
       "    }\n",
       "\n",
       "    .dataframe thead th {\n",
       "        text-align: right;\n",
       "    }\n",
       "</style>\n",
       "<table border=\"1\" class=\"dataframe\">\n",
       "  <thead>\n",
       "    <tr style=\"text-align: right;\">\n",
       "      <th></th>\n",
       "      <th>feature_name</th>\n",
       "      <th>importance</th>\n",
       "    </tr>\n",
       "  </thead>\n",
       "  <tbody>\n",
       "    <tr>\n",
       "      <th>1</th>\n",
       "      <td>vas_id</td>\n",
       "      <td>51.270541</td>\n",
       "    </tr>\n",
       "    <tr>\n",
       "      <th>2</th>\n",
       "      <td>buy_time_x</td>\n",
       "      <td>45.067929</td>\n",
       "    </tr>\n",
       "    <tr>\n",
       "      <th>0</th>\n",
       "      <td>id</td>\n",
       "      <td>0.880416</td>\n",
       "    </tr>\n",
       "    <tr>\n",
       "      <th>116</th>\n",
       "      <td>115</td>\n",
       "      <td>0.060481</td>\n",
       "    </tr>\n",
       "    <tr>\n",
       "      <th>56</th>\n",
       "      <td>52</td>\n",
       "      <td>0.059555</td>\n",
       "    </tr>\n",
       "  </tbody>\n",
       "</table>\n",
       "</div>"
      ],
      "text/plain": [
       "    feature_name  importance\n",
       "1         vas_id   51.270541\n",
       "2     buy_time_x   45.067929\n",
       "0             id    0.880416\n",
       "116          115    0.060481\n",
       "56            52    0.059555"
      ]
     },
     "execution_count": 41,
     "metadata": {},
     "output_type": "execute_result"
    }
   ],
   "source": [
    "feature_importances.head()"
   ]
  },
  {
   "cell_type": "code",
   "execution_count": 42,
   "id": "cafe9e65",
   "metadata": {},
   "outputs": [
    {
     "data": {
      "text/plain": [
       "array([[0.905905  , 0.094095  ],\n",
       "       [0.88982179, 0.11017821],\n",
       "       [0.9818836 , 0.0181164 ],\n",
       "       ...,\n",
       "       [0.99869639, 0.00130361],\n",
       "       [0.80539099, 0.19460901],\n",
       "       [0.94597768, 0.05402232]])"
      ]
     },
     "execution_count": 42,
     "metadata": {},
     "output_type": "execute_result"
    }
   ],
   "source": [
    "model.predict_proba(X_test)"
   ]
  },
  {
   "cell_type": "code",
   "execution_count": 43,
   "id": "6fd9da23",
   "metadata": {},
   "outputs": [
    {
     "data": {
      "text/plain": [
       "array([0., 0., 0., ..., 0., 0., 0.])"
      ]
     },
     "execution_count": 43,
     "metadata": {},
     "output_type": "execute_result"
    }
   ],
   "source": [
    "model.predict(X_test)"
   ]
  },
  {
   "cell_type": "markdown",
   "id": "bfd31097",
   "metadata": {},
   "source": [
    "### Сохраним готовую модель в файл:"
   ]
  },
  {
   "cell_type": "code",
   "execution_count": 44,
   "id": "8ee5fbe2",
   "metadata": {},
   "outputs": [],
   "source": [
    "import pickle"
   ]
  },
  {
   "cell_type": "code",
   "execution_count": 45,
   "id": "90f8cd21",
   "metadata": {},
   "outputs": [],
   "source": [
    "with open('./model.pkl', 'wb') as file:\n",
    "    pickle.dump(model, file)"
   ]
  },
  {
   "cell_type": "markdown",
   "id": "2d110a99",
   "metadata": {},
   "source": [
    "### Часть 3. Определим вероятность подключения услуги пользователями "
   ]
  },
  {
   "cell_type": "markdown",
   "id": "4bfff668",
   "metadata": {},
   "source": [
    "### Загрузим модель из файла, дадим ей другое название и проверим её работу на тестовой выборке:"
   ]
  },
  {
   "cell_type": "code",
   "execution_count": 46,
   "id": "d5961722",
   "metadata": {},
   "outputs": [
    {
     "data": {
      "text/plain": [
       "<catboost.core.CatBoostClassifier at 0x1f8382e0>"
      ]
     },
     "execution_count": 46,
     "metadata": {},
     "output_type": "execute_result"
    }
   ],
   "source": [
    "with open('./model.pkl', 'rb') as file:\n",
    "    my_model = pickle.load(file)\n",
    "    \n",
    "my_model"
   ]
  },
  {
   "cell_type": "code",
   "execution_count": 47,
   "id": "74ed76a7",
   "metadata": {},
   "outputs": [],
   "source": [
    "# import sklearn\n",
    "# print(sklearn.__version__)"
   ]
  },
  {
   "cell_type": "code",
   "execution_count": 48,
   "id": "3228dda2",
   "metadata": {},
   "outputs": [],
   "source": [
    "# pip freeze"
   ]
  },
  {
   "cell_type": "code",
   "execution_count": 49,
   "id": "09978a19",
   "metadata": {},
   "outputs": [],
   "source": [
    "y_actual = my_model.predict(X_actual)"
   ]
  },
  {
   "cell_type": "markdown",
   "id": "53cfb685",
   "metadata": {},
   "source": [
    "### Сохраним полученные предсказания в таблицу"
   ]
  },
  {
   "cell_type": "code",
   "execution_count": 50,
   "id": "1862d832",
   "metadata": {},
   "outputs": [],
   "source": [
    "answers_test = X_actual[['id', 'vas_id', 'buy_time_x']].copy()\n",
    "answers_test['target'] = y_actual"
   ]
  },
  {
   "cell_type": "code",
   "execution_count": 51,
   "id": "eafd6198",
   "metadata": {},
   "outputs": [
    {
     "data": {
      "text/html": [
       "<div>\n",
       "<style scoped>\n",
       "    .dataframe tbody tr th:only-of-type {\n",
       "        vertical-align: middle;\n",
       "    }\n",
       "\n",
       "    .dataframe tbody tr th {\n",
       "        vertical-align: top;\n",
       "    }\n",
       "\n",
       "    .dataframe thead th {\n",
       "        text-align: right;\n",
       "    }\n",
       "</style>\n",
       "<table border=\"1\" class=\"dataframe\">\n",
       "  <thead>\n",
       "    <tr style=\"text-align: right;\">\n",
       "      <th></th>\n",
       "      <th>id</th>\n",
       "      <th>vas_id</th>\n",
       "      <th>buy_time_x</th>\n",
       "      <th>target</th>\n",
       "    </tr>\n",
       "  </thead>\n",
       "  <tbody>\n",
       "    <tr>\n",
       "      <th>0</th>\n",
       "      <td>3130519</td>\n",
       "      <td>2.0</td>\n",
       "      <td>1548018000</td>\n",
       "      <td>0.0</td>\n",
       "    </tr>\n",
       "    <tr>\n",
       "      <th>1</th>\n",
       "      <td>2000860</td>\n",
       "      <td>4.0</td>\n",
       "      <td>1548018000</td>\n",
       "      <td>1.0</td>\n",
       "    </tr>\n",
       "    <tr>\n",
       "      <th>2</th>\n",
       "      <td>1099444</td>\n",
       "      <td>2.0</td>\n",
       "      <td>1546808400</td>\n",
       "      <td>0.0</td>\n",
       "    </tr>\n",
       "    <tr>\n",
       "      <th>3</th>\n",
       "      <td>1343255</td>\n",
       "      <td>5.0</td>\n",
       "      <td>1547413200</td>\n",
       "      <td>0.0</td>\n",
       "    </tr>\n",
       "    <tr>\n",
       "      <th>4</th>\n",
       "      <td>1277040</td>\n",
       "      <td>2.0</td>\n",
       "      <td>1546808400</td>\n",
       "      <td>0.0</td>\n",
       "    </tr>\n",
       "  </tbody>\n",
       "</table>\n",
       "</div>"
      ],
      "text/plain": [
       "        id  vas_id  buy_time_x  target\n",
       "0  3130519     2.0  1548018000     0.0\n",
       "1  2000860     4.0  1548018000     1.0\n",
       "2  1099444     2.0  1546808400     0.0\n",
       "3  1343255     5.0  1547413200     0.0\n",
       "4  1277040     2.0  1546808400     0.0"
      ]
     },
     "execution_count": 51,
     "metadata": {},
     "output_type": "execute_result"
    }
   ],
   "source": [
    "answers_test.head()"
   ]
  },
  {
   "cell_type": "markdown",
   "id": "a59a91c0",
   "metadata": {},
   "source": [
    "### Результат сохраним в файл"
   ]
  },
  {
   "cell_type": "code",
   "execution_count": 52,
   "id": "89cd70a2",
   "metadata": {},
   "outputs": [],
   "source": [
    "answers_test.to_csv('answers_test.csv')"
   ]
  },
  {
   "cell_type": "code",
   "execution_count": null,
   "id": "c10c0df4",
   "metadata": {},
   "outputs": [],
   "source": []
  }
 ],
 "metadata": {
  "kernelspec": {
   "display_name": "Python 3",
   "language": "python",
   "name": "python3"
  },
  "language_info": {
   "codemirror_mode": {
    "name": "ipython",
    "version": 3
   },
   "file_extension": ".py",
   "mimetype": "text/x-python",
   "name": "python",
   "nbconvert_exporter": "python",
   "pygments_lexer": "ipython3",
   "version": "3.8.6"
  }
 },
 "nbformat": 4,
 "nbformat_minor": 5
}
